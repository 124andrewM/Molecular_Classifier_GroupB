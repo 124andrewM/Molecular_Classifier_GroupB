{
  "cells": [
    {
      "cell_type": "markdown",
      "id": "d38508b7",
      "metadata": {
        "id": "d38508b7"
      },
      "source": [
        "# Dataset Pre-Processor\n",
        "\n",
        "## Purpose\n",
        "\n",
        "This notebook is to prepare raw molecular coordinates for input into the `xyz_training_model` notebook to train the **Equilibrium Molecular Classifier**\n",
        "\n",
        "<br>\n",
        "\n",
        "---"
      ]
    },
    {
      "cell_type": "code",
      "execution_count": null,
      "id": "a2e32492",
      "metadata": {
        "id": "a2e32492"
      },
      "outputs": [],
      "source": [
        "import os\n",
        "import numpy as np\n",
        "import tensorflow as tf\n",
        "from sklearn.preprocessing import OneHotEncoder"
      ]
    },
    {
      "cell_type": "markdown",
      "id": "2cdb7361",
      "metadata": {
        "id": "2cdb7361"
      },
      "source": [
        "### Raw Data\n",
        "\n",
        "You will begin with raw csv files containing molecule spatial coordinates in the following format:\n",
        "\n",
        "```\n",
        "energy_gap,0.332675\n",
        "C,2.152789,1.401974,0.597515\n",
        "C,1.998043,0.223677,-0.359047\n",
        "O,3.149622,-0.608604,-0.386871\n",
        "C,0.782749,-0.648626,-0.041220\n",
        "O,-0.396569,0.166622,-0.190805\n",
        "C,-1.564498,-0.425885,0.068045\n",
        "N,-1.683472,-1.634127,0.433307\n",
        "C,-2.672251,0.496153,-0.122281\n",
        "N,-3.596210,1.177815,-0.253258\n",
        "H,3.031185,1.993769,0.327938\n",
        "H,1.270360,2.046388,0.569160\n",
        "H,2.277629,1.048408,1.629434\n",
        "H,1.889483,0.597758,-1.383445\n",
        "H,3.390302,-0.814685,0.523311\n",
        "H,0.728477,-1.499685,-0.725138\n",
        "H,0.822759,-1.037900,0.983223\n",
        "H,-2.657830,-1.887772,0.578517\n",
        "```\n",
        "\n",
        "The below paths are pointing to these files with the energy_gap added via the `energy_calculations.py` script"
      ]
    },
    {
      "cell_type": "markdown",
      "id": "1008e622e5a1143f",
      "metadata": {
        "id": "1008e622e5a1143f"
      },
      "source": [
        "### Input File Paths\n",
        "- Please ensure that you have `qm9_data_with_energies` downloaded and saved into the relevant directory that you wish to work from.\n",
        "- Ensure that both `qm9_data_energy_gap` and`qm9_data_modified_energy_gap` have been included in the `qm9_data_with_energies`, with the path names for `equilibrium_path` and `nonequilibrium_path` below both correctly pointing to these files."
      ]
    },
    {
      "cell_type": "code",
      "source": [
        "# --- GOOGLE DRIVE --- #\n",
        "# If you are running this in Google Colab, using your Google Drive for the dataset, run this cell.\n",
        "from google.colab import drive\n",
        "\n",
        "drive.mount('/content/drive')\n",
        "\n",
        "# Then in the next cell, set the path to your directories in Google Drive.\n",
        "# e.g.\n",
        "equilibrium_path = '/content/drive/MyDrive/qm9_data_with_energies/qm9_data_energy_gap'\n",
        "nonequilirbium_path = '/content/drive/MyDrive/qm9_data_with_energies/qm9_data_modified_energy_gap'"
      ],
      "metadata": {
        "id": "VHfsOOmHlXHf"
      },
      "id": "VHfsOOmHlXHf",
      "execution_count": null,
      "outputs": []
    },
    {
      "cell_type": "code",
      "execution_count": null,
      "id": "c92d4eed4b0866b",
      "metadata": {
        "id": "c92d4eed4b0866b"
      },
      "outputs": [],
      "source": [
        "# --- LOCAL FILES --- #\n",
        "\n",
        "# Change the file path names such that they point to the correct directories where these files are stored on your local machine\n",
        "equilibrium_path = \"/Users/lyamtalbot/Library/CloudStorage/OneDrive-UniversityofNewEngland/cosc320-project-group-b/qm9_data_with_energies/qm9_data_energy_gap\"\n",
        "nonequilirbium_path = \"/Users/lyamtalbot/Library/CloudStorage/OneDrive-UniversityofNewEngland/cosc320-project-group-b/qm9_data_with_energies/qm9_data_modified_energy_gap\""
      ]
    },
    {
      "cell_type": "markdown",
      "id": "8be6999e23a25f68",
      "metadata": {
        "id": "8be6999e23a25f68"
      },
      "source": [
        "### OneHotEncoder\n",
        "\n",
        "Using the [scikit-learn OneHotEncoder](https://scikit-learn.org/stable/modules/generated/sklearn.preprocessing.OneHotEncoder.html) to encode our atom types and coordinates into one feature vector.\n",
        "\n",
        "Neural Networks require numerical inputs so we are creating a way for the model to identify different atoms it would look like `[1, 0, 0, 0, 0, 1.456, 1.432, 0.456]` for a Hydrogen atom.\n",
        "\n",
        "Here we are just creating the encoder for use later when preparing the data."
      ]
    },
    {
      "cell_type": "code",
      "execution_count": null,
      "id": "69b630c26fbd5442",
      "metadata": {
        "id": "69b630c26fbd5442"
      },
      "outputs": [],
      "source": [
        "qm9_atoms = ['H', 'C', 'N', 'O', 'F']\n",
        "feature_dim = len(qm9_atoms) + 3 # feature_dim = number of elements + spatial coordinates (x,y,z) i.e. (3)\n",
        "encoder = OneHotEncoder(categories=[qm9_atoms], sparse_output=False, handle_unknown='ignore')\n",
        "encoder.fit(np.array(qm9_atoms).reshape(-1, 1))"
      ]
    },
    {
      "cell_type": "markdown",
      "id": "4f34c232",
      "metadata": {
        "id": "4f34c232"
      },
      "source": [
        "### Parsing Comma Seperated Values\n",
        "\n",
        "This function takes in a file with the structure shown earlier (plus the energy gap) and extracts the energy gap, atom, and coordinates."
      ]
    },
    {
      "cell_type": "code",
      "execution_count": null,
      "id": "4b9dbce2",
      "metadata": {
        "id": "4b9dbce2"
      },
      "outputs": [],
      "source": [
        "def parse_comma_files(file_path):\n",
        "  atoms, coords = [], []\n",
        "  with open(file_path, 'r') as file:\n",
        "    energy_gap = file.readline().split(',')[1]\n",
        "    for line in file:\n",
        "      single_atom = line.strip().split(',')\n",
        "      if len(single_atom) == 4:\n",
        "        atoms.append(single_atom[0])\n",
        "        coords.append([float(val) for val in single_atom[1:]])\n",
        "  return atoms, np.array(coords), energy_gap"
      ]
    },
    {
      "cell_type": "markdown",
      "id": "7ebc0a75",
      "metadata": {
        "id": "7ebc0a75"
      },
      "source": [
        "### Adjacency Calculations\n",
        "\n",
        "- linalg (linear algebra from NumPy)\n",
        "- Computes pairwise distances between atoms using Euclidean norm\n",
        "\n",
        "Calculates the distance between atoms and considers them as connected if the distance is between 0 and 1."
      ]
    },
    {
      "cell_type": "code",
      "execution_count": null,
      "id": "bde71b50",
      "metadata": {
        "id": "bde71b50"
      },
      "outputs": [],
      "source": [
        "def dense_adj(coords):\n",
        "    dists = np.linalg.norm(coords[:, None] - coords[None, :], axis=-1)\n",
        "    adj = ((dists < 1.0) & (dists > 0)).astype(np.float32)\n",
        "    return adj"
      ]
    },
    {
      "cell_type": "markdown",
      "id": "d1646e5e",
      "metadata": {
        "id": "d1646e5e"
      },
      "source": [
        "Calculates the actual distance between the atoms."
      ]
    },
    {
      "cell_type": "code",
      "execution_count": null,
      "id": "37e8d788",
      "metadata": {
        "id": "37e8d788"
      },
      "outputs": [],
      "source": [
        "def distance_mat(coords):\n",
        "    dists = np.linalg.norm(coords[:, None] - coords[None, :], axis=-1)\n",
        "    return dists"
      ]
    },
    {
      "cell_type": "markdown",
      "id": "aa254a3a",
      "metadata": {
        "id": "aa254a3a"
      },
      "source": [
        "### Defining the Real Bonds"
      ]
    },
    {
      "cell_type": "code",
      "execution_count": null,
      "id": "bfe93d26",
      "metadata": {
        "id": "bfe93d26"
      },
      "outputs": [],
      "source": [
        "# In QM9 molecules, common elements like carbon (C), nitrogen (N), oxygen (O), hydrogen (H), and fluorine (F)\n",
        "# generally exhibit valencies of 4, 3, 2, 1, and 1, respectively\n",
        "\n",
        "# We need to create a mask for the above adjacency matrix that when applied to said matrix it will yield a new matrix\n",
        "# that only contains entries between atoms that are actually bonded.\n",
        "# Atoms could theoretically be bonded if their euclidean distance <= the sum of the two atoms covalent radii +/- [0.1,0.4] angstroms\n",
        "# We also need to check the valence of the atoms to ensure that atoms have only the number of bonds they can support\n",
        "# If two atoms are the same distance away we'll probably need to go by some other rule like charge?\n",
        "\n",
        "# Can probably use the valency count as a loop counter\n",
        "# Determine what the element is and therefore how many bonds it can support\n",
        "# We then loop that many times to see what else it's bonded to.\n",
        "# Sort all other atoms by their distance to this one\n",
        "# Bond with the one with the shortest distance\n",
        "# Remove that from the list\n",
        "# Bond with the next closest\n",
        "# One thing to consider though is while atom_2 might be close enough to atom_1 to form a bond based on\n",
        "# distance, there might be some atom_3 that is closer to atom_2 than atom_1 and in the case where atom_2 is something like hydrogen\n",
        "# with a valency of 1, it would likely bond to the closer atom.\n",
        "# so I'll probably need to run these checks in parallel for both atoms to ensure the right bond is chosen\n",
        "# both atoms will need to \"agree\" that they should be bonded in order for the bond to be established\n",
        "# one we've established that a bond exists between these two atoms we can make bond_mask[i][j] == bond_mask[j][i] == 1, all atom pairs that\n",
        "# do not have bonds will == 0 instead.\n",
        "# when this mask is applied to the fully connected weighted adjacency matrix it will 0 out all the distances for\n",
        "# atom pairs that are not chemically bonded. So we would have a matrix that represents the bonds and their lengths.\n",
        "\n",
        "\n",
        "# dense_adj is a matrix representing all the connections from every atom to every other atom\n",
        "# atoms is a list of the atoms(in order)\n",
        "# valancies could be a global which represents the valency of this atom within this system\n",
        "# covalent radii could also be a global, represents the distance at which an atom forms a covalent bond with itself\n",
        "# if two elements are close enough such that their distance is less than or equal to the sum of their covalent radii we can\n",
        "# infer that they are \"probably\" bonded\n",
        "# I already have the list of every atom's distance to every other atom.\n",
        "# I just need to track how many bonds are actually free for each atom.\n",
        "# I could create another matrix that would track how many bonds each atom has remaining\n",
        "# Oh hang on I could maybe use the diagonal of the real bonds matrix to store the valency of the atoms which would allow me to the entries on BOTH atoms\n",
        "# This way I don't end up making too many bonds by mistake\n",
        "\n",
        "# [[2,0,0,0,0,0], The valency matrix may look something like this.\n",
        "#  [0,3,0,0,0,0], valency_matrix[i][i] represents the number of remaining bonds for this atom\n",
        "#  [0,0,1,0,0,0], When we make a bond with another atom, provided we know it's index\n",
        "#  [0,0,0,4,0,0], we can decrement valency_matrix[other_atom][other_atom].\n",
        "#  [0,0,0,0,2,0], hopefully then we can avoid over bonding any atoms.\n",
        "#  [0,0,0,0,0,1]]\n",
        "\n",
        "# In QM9 molecules, common elements like carbon (C), nitrogen (N), oxygen (O), hydrogen (H), and fluorine (F)\n",
        "# generally exhibit valencies of 4, 3, 2, 1, and 1, respectively\n",
        "\n",
        "# qm9_atoms = ['H', 'C', 'N', 'O', 'F']\n",
        "valencies = {'H': 1, 'C': 4, 'N': 3, 'O': 2, 'F': 1}\n",
        "covalent_radii = {'H': 0.31, 'C': 0.76, 'N': 0.71, 'O':0.66, 'F' : 0.57} #covalent radii in angstroms\n",
        "\n",
        "def define_real_bonds(dense_adj, atoms):\n",
        "    #each row in this matrix represents 1 atom and it's bonds to every other atom in the molecule\n",
        "    #they should be in the same order as the atoms so row 1 -> atom 1, etc.\n",
        "    real_bonds = np.zeros((len(dense_adj), len(dense_adj)))\n",
        "    for i in range(len(atoms)):\n",
        "        real_bonds[i][i] = valencies[atoms[i]]\n",
        "        #now the diagonal of the matrix should contain the valency of this atom\n",
        "        #we can decrement that every time we make a bond to keep track of the number of bonds for both atoms\n",
        "        #we may still end up in a position where we use a make a bond to an atom because\n",
        "        #it is our closest neighbour however it may have another neighbour that is closer that it should be bonded to instead\n",
        "        #additionally we want make sure in the case of hyrdogen and fluorine that we're only bonding to atoms that have a valency >= 2\n",
        "        #this should prevent them from bonding to each other, because if that were to happen they wouldn't be connected to the rest of the molecule anymore.\n",
        "\n",
        "    for i in range(len(dense_adj)):\n",
        "        candidate_bonds = list(enumerate(dense_adj[i])) ## all the bonds with this atom and their index\n",
        "        candidate_bonds.pop(i) ## want to remove the column that corresponds to this atom, it doesn't have a bond to itself.\n",
        "        candidate_bonds.sort(key = lambda x:x[1]) ## sort the candidates on distance.\n",
        "        # valency = real_bonds[i][i]\n",
        "        self_conv_radius = covalent_radii[atoms[i]] ##get the covalent radius for this element\n",
        "        for bond in candidate_bonds:\n",
        "            ## can play around with what counts as a bond length, what shift we're happy to accept\n",
        "            ## I'd had this at 0.3 angstroms but that's way too high\n",
        "            ## changing to 0.1 increased the accuracy quite a bit\n",
        "            ## 0.05 also seems to work well.\n",
        "            if bond[1] <= self_conv_radius + covalent_radii[atoms[bond[0]]] + 0.05 and real_bonds[i][i] > 0 and real_bonds[bond[0]][bond[0]] > 0:\n",
        "                real_bonds[i][bond[0]] = 1\n",
        "                real_bonds[bond[0]][i] = 1\n",
        "                real_bonds[i][i] -= 1\n",
        "                real_bonds[bond[0]][bond[0]] -= 1\n",
        "            else:\n",
        "                continue\n",
        "    return real_bonds\n",
        "\n",
        "        # for j in range(valency):\n",
        "        #     for k in range(len(candidate_bonds)):\n",
        "        #         if candidate_bonds[k][1] <= (covalent_radii[atom] + covalent_radii[])\n",
        "\n",
        "# my notes are a mess\n",
        "# if this doesn't work we might want to order all the pairwise distances in the matrix from smallest to largest\n",
        "# then go through in order and check if those\n"
      ]
    },
    {
      "cell_type": "markdown",
      "id": "dc04850b",
      "metadata": {
        "id": "dc04850b"
      },
      "source": [
        "### Adding Padding\n",
        "\n",
        "Pads an array to a new shew shape so we can get all molecules to the same shape."
      ]
    },
    {
      "cell_type": "code",
      "execution_count": null,
      "id": "50ef97cf",
      "metadata": {
        "id": "50ef97cf"
      },
      "outputs": [],
      "source": [
        "def pad_array(arr, new_shape):\n",
        "    p_val = 0.0\n",
        "    padded = np.full(new_shape, p_val, dtype=arr.dtype)\n",
        "    padded[:arr.shape[0], :arr.shape[1]] = arr\n",
        "    return padded"
      ]
    },
    {
      "cell_type": "markdown",
      "id": "3d81750c",
      "metadata": {
        "id": "3d81750c"
      },
      "source": [
        "### Encode the Atoms\n",
        "\n",
        "- Uses our encoder created at the start to encode the atom characters to ints."
      ]
    },
    {
      "cell_type": "code",
      "execution_count": null,
      "id": "b6a2384e",
      "metadata": {
        "id": "b6a2384e"
      },
      "outputs": [],
      "source": [
        "def encode_labels(atoms, coords):\n",
        "    # Reshaping the atoms into one per row for the encoder\n",
        "    shaped_atoms = np.array(atoms).reshape(-1, 1)\n",
        "    # Use our encoder on the atoms\n",
        "    encoded_atoms = encoder.transform(shaped_atoms).astype(np.float32)\n",
        "    # Add the coords to the encoded atoms\n",
        "    return np.concatenate([encoded_atoms, coords], axis=-1)"
      ]
    },
    {
      "cell_type": "markdown",
      "id": "ab8dfef6",
      "metadata": {
        "id": "ab8dfef6"
      },
      "source": [
        "### Create a Mask\n",
        "\n",
        "- Generates a mask where 0 is no molecule and 1 is a real molecule.\n",
        "- This allows us to pad the smaller molecules to the size of the largest and the model can know which nodes are real."
      ]
    },
    {
      "cell_type": "code",
      "execution_count": null,
      "id": "9a7d1191",
      "metadata": {
        "id": "9a7d1191"
      },
      "outputs": [],
      "source": [
        "def create_mask(encoded_atoms, max_nodes):\n",
        "    # Create a list of zeros with the size of max_nodes\n",
        "    mask = np.zeros((max_nodes,), dtype=np.float32)\n",
        "    # Set the first num_real elements to 1.0\n",
        "    mask[:encoded_atoms.shape[0]] = 1.0\n",
        "    return mask"
      ]
    },
    {
      "cell_type": "markdown",
      "id": "06373031",
      "metadata": {
        "id": "06373031"
      },
      "source": [
        "### Prepare Data\n",
        "\n",
        "This function extracts the data from the input folders and forms the various features and labels we need.\n",
        "\n",
        "We return:\n",
        "- `molecules`: Array of the individual atoms\n",
        "- `adj_arr`: Adjacency list of real bonds\n",
        "- `mask_arr`: Masking array with 0 for no bond or 1 for a bond\n",
        "- `labels`: Original labels for each molecule (1 for equilibrium and 0 for nonequilibrium)\n",
        "- `max_nodes`: Maximum number of nodes found in a single molecule\n",
        "- `energy_gaps`: The pre-calculated energy gap for each file"
      ]
    },
    {
      "cell_type": "code",
      "execution_count": null,
      "id": "d0cb015b",
      "metadata": {
        "id": "d0cb015b"
      },
      "outputs": [],
      "source": [
        "def prepare_data(equ_dir, non_equ_dir):\n",
        "    node_list, adj_list, mask_list, label_list, energy_gaps = [], [], [], [], []\n",
        "    all_files = [] # Temp list to collect all files and labels\n",
        "\n",
        "    # Iterate over both equ_dir and non_equ_dir folders\n",
        "    # Collect the file paths and labels together\n",
        "    for label, folder in [(1, equ_dir), (0, non_equ_dir)]:\n",
        "        for file_name in os.listdir(folder):\n",
        "            file_path = os.path.join(folder, file_name)\n",
        "            all_files.append((file_path, label))\n",
        "\n",
        "    # Sort to ensure consistent order\n",
        "    all_files.sort(key=lambda x: x[0])\n",
        "\n",
        "    max_nodes = 0 # Max nodes found in any molecule\n",
        "    temp_graphs = [] # Temp storage for the next loop\n",
        "\n",
        "    # Go through each file-label pair and build a temp dataset\n",
        "    for file_path, label in all_files:\n",
        "        atoms, coords, energy_gap = parse_comma_files(file_path)\n",
        "        temp_graphs.append((atoms, coords, energy_gap, label))\n",
        "        max_nodes = max(max_nodes, len(atoms))\n",
        "\n",
        "    # Process each molecule\n",
        "    for atoms, coords, energy_gap, label in temp_graphs:\n",
        "        # Encoded the atoms and coords\n",
        "        encoded_atoms = encode_labels(atoms, coords)\n",
        "\n",
        "        # --- Components to Return (plus max_nodes) --- This order is important\n",
        "        mask_list.append(create_mask(encoded_atoms, max_nodes))\n",
        "        node_list.append(pad_array(encoded_atoms, (max_nodes, encoded_atoms.shape[1])))\n",
        "        adj_list.append(pad_array(define_real_bonds(distance_mat(coords), atoms), (max_nodes, max_nodes)))\n",
        "        label_list.append(np.array([label], dtype=np.float32))\n",
        "        energy_gaps.append([energy_gap])\n",
        "\n",
        "    return (\n",
        "        np.array(node_list),\n",
        "        np.array(adj_list),\n",
        "        np.array(mask_list),\n",
        "        np.array(label_list),\n",
        "        max_nodes,\n",
        "        np.array(energy_gaps, dtype=np.float32),\n",
        "    )"
      ]
    },
    {
      "cell_type": "markdown",
      "id": "b6f49986",
      "metadata": {
        "id": "b6f49986"
      },
      "source": [
        "### Create the TensorFlow Dataset\n",
        "\n",
        "This is the required dataset structure for the model."
      ]
    },
    {
      "cell_type": "code",
      "execution_count": null,
      "id": "42da67a3",
      "metadata": {
        "id": "42da67a3"
      },
      "outputs": [],
      "source": [
        "def create_tf_ds(molecules, adj_arr, mask_arr, labels, energy_gap, batch_size=32, shuffle=True, drop_remainder=False):\n",
        "    # Reshape energy_gap to ensure it has shape [?, 1]\n",
        "    energy_gap = energy_gap.reshape(-1, 1) # Convert to 2D array\n",
        "\n",
        "    ds = tf.data.Dataset.from_tensor_slices(((molecules, adj_arr, mask_arr, energy_gap), labels))\n",
        "    if shuffle:\n",
        "        ds = ds.shuffle(buffer_size=len(molecules))\n",
        "    # ds = ds.batch(batch_size, drop_remainder=drop_remainder)\n",
        "    return ds\n"
      ]
    },
    {
      "cell_type": "markdown",
      "id": "9340285e",
      "metadata": {
        "id": "9340285e"
      },
      "source": [
        "### Load and process our data\n",
        "\n",
        "- `molecules`: The actual atom types (encoded as integers).\n",
        "- `adj_arr`: Identifying which atoms are actually bonded.\n",
        "- `mask_arr`: arrays of 0's and 1's to indicate to the model whether that node is a real atom or padding.\n",
        "- `labels`: Each molecule gets a 0 or 1 label as to whether it is in equilibrium or not for training.\n",
        "- `max_nodes`: The maximum number of atoms found in a single molecule.\n",
        "- `energy_gaps`: A list of the pre-calculated energy gaps for each molecule.\n"
      ]
    },
    {
      "cell_type": "code",
      "execution_count": null,
      "id": "6c4d03f5",
      "metadata": {
        "id": "6c4d03f5",
        "outputId": "1558868e-fe1a-4064-d385-021da2cdb079"
      },
      "outputs": [
        {
          "name": "stdout",
          "output_type": "stream",
          "text": [
            "Loaded 20000 graphs, each padded to 26 nodes\n"
          ]
        }
      ],
      "source": [
        "molecules, adj_arr, mask_arr, labels, max_nodes, energy_gaps = prepare_data(equilibrium_path, nonequilirbium_path)\n",
        "print(\"Loaded\", molecules.shape[0], \"graphs, each padded to\", max_nodes, \"nodes\")"
      ]
    },
    {
      "cell_type": "markdown",
      "id": "79409cb4",
      "metadata": {
        "id": "79409cb4"
      },
      "source": [
        "### Specify Output Directories\n",
        "\n",
        "- `train_dir`: where to save your training data.\n",
        "- `test_dir`: where to save your testing data."
      ]
    },
    {
      "cell_type": "code",
      "execution_count": null,
      "id": "96f82a43",
      "metadata": {
        "id": "96f82a43"
      },
      "outputs": [],
      "source": [
        "train_dir = \"/Users/lyamtalbot/Library/CloudStorage/OneDrive-UniversityofNewEngland/cosc320-project-group-b/qm9_tensorflow_datasets/qm9_03/qm9_03_train\"\n",
        "test_dir = \"/Users/lyamtalbot/Library/CloudStorage/OneDrive-UniversityofNewEngland/cosc320-project-group-b/qm9_tensorflow_datasets/qm9_03/qm9_03_test\""
      ]
    },
    {
      "cell_type": "markdown",
      "id": "28abf928",
      "metadata": {
        "id": "28abf928"
      },
      "source": [
        "### Create and Save the Datasets\n",
        "\n",
        "Creates the TensorFlow dataset, splits into train and test and saves to the path provided."
      ]
    },
    {
      "cell_type": "code",
      "execution_count": null,
      "id": "ee159c4b",
      "metadata": {
        "id": "ee159c4b"
      },
      "outputs": [],
      "source": [
        "dataset = create_tf_ds(molecules, adj_arr, mask_arr, labels, energy_gaps, shuffle=True)\n",
        "\n",
        "qm9_train, qm9_test = tf.keras.utils.split_dataset(dataset, left_size=0.8, shuffle=False)\n",
        "\n",
        "qm9_train.save(path=train_dir)\n",
        "qm9_test.save(path=test_dir)"
      ]
    }
  ],
  "metadata": {
    "kernelspec": {
      "display_name": "320_project",
      "language": "python",
      "name": "python3"
    },
    "language_info": {
      "codemirror_mode": {
        "name": "ipython",
        "version": 3
      },
      "file_extension": ".py",
      "mimetype": "text/x-python",
      "name": "python",
      "nbconvert_exporter": "python",
      "pygments_lexer": "ipython3",
      "version": "3.11.11"
    },
    "colab": {
      "provenance": []
    }
  },
  "nbformat": 4,
  "nbformat_minor": 5
}