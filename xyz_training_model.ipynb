{
 "cells": [
  {
   "cell_type": "markdown",
   "id": "55ac6f23",
   "metadata": {
    "id": "55ac6f23"
   },
   "source": [
    "# Equilibrium Molecule Classifier\n",
    "\n",
    "## Purpose:\n",
    "This model aims classify a set of relative atomic coordinates as being in equilibrium or nonequilibrium.\n",
    "\n",
    "## Data Process\n",
    "The dataset is created using the `qm9_create_tfdataset` Jupyter Notebook.\n",
    "\n",
    "---\n"
   ]
  },
  {
   "cell_type": "markdown",
   "id": "a279f838",
   "metadata": {
    "id": "a279f838"
   },
   "source": [
    "### Imports\n",
    "\n",
    "All imports are grouped here for clarity"
   ]
  },
  {
   "cell_type": "code",
   "execution_count": 68,
   "id": "cd8b53cb",
   "metadata": {
    "id": "cd8b53cb"
   },
   "outputs": [],
   "source": [
    "import numpy as np\n",
    "import tensorflow as tf\n",
    "from tensorflow.keras import layers, Model, Input\n",
    "from tensorflow.keras.layers import Dense, Lambda, Concatenate, Dropout\n",
    "from tensorflow.keras.losses import BinaryFocalCrossentropy\n",
    "from tensorflow.keras.optimizers import Adam\n",
    "from tensorflow.keras.activations import relu\n",
    "from tensorflow.keras.initializers import RandomUniform\n",
    "from tensorflow.keras.callbacks import ModelCheckpoint, EarlyStopping\n",
    "import matplotlib.pyplot as plt"
   ]
  },
  {
   "cell_type": "markdown",
   "id": "94286bd0",
   "metadata": {
    "id": "94286bd0"
   },
   "source": [
    "### Datasets\n",
    "\n",
    "To evaluate model performance, we have created two seperate datasets. We have taken the same set of original molecules and displaced them by different amounts for a more comprehensive view of the models capabilties.\n",
    "\n",
    "1. The primary dataset has a total displacement of 0.3 angrstroms across the atoms coordinates.\n",
    "2. The secondary dataset has a total displacement of 0.5 angstroms across the atoms coordinates."
   ]
  },
  {
   "cell_type": "code",
   "execution_count": 69,
   "id": "7bcd1922",
   "metadata": {
    "colab": {
     "base_uri": "https://localhost:8080/"
    },
    "id": "7bcd1922",
    "outputId": "92faecd4-81b9-458e-9710-3144c757ead2"
   },
   "outputs": [
    {
     "name": "stdout",
     "output_type": "stream",
     "text": [
      "Drive already mounted at /content/drive; to attempt to forcibly remount, call drive.mount(\"/content/drive\", force_remount=True).\n"
     ]
    }
   ],
   "source": [
    "# --- GOOGLE DRIVE --- #\n",
    "# If you are running this in Google Colab, using your Google Drive for the dataset, run this cell.\n",
    "from google.colab import drive\n",
    "\n",
    "drive.mount('/content/drive')\n",
    "\n",
    "# Then in the next cell, set the path to your directories in Google Drive.\n",
    "# e.g.\n",
    "qm9_03_train = '/content/drive/MyDrive/qm9_03_train'\n",
    "qm9_03_test = '/content/drive/MyDrive/qm9_03_test'\n",
    "\n",
    "qm9_05_train = '/content/drive/MyDrive/qm9_05_train'\n",
    "qm9_05_test = '/content/drive/MyDrive/qm9_05_test'"
   ]
  },
  {
   "cell_type": "code",
   "execution_count": null,
   "id": "988f16e0",
   "metadata": {
    "id": "988f16e0"
   },
   "outputs": [],
   "source": [
    "# --- LOCAL FILES --- #\n",
    "\n",
    "# Displaced by 0.3 angrstroms\n",
    "qm9_03_train = \"/Users/lyamtalbot/Library/CloudStorage/OneDrive-UniversityofNewEngland/cosc320-project-group-b/qm9_tensorflow_datasets/qm9_03/qm9_03_train\"\n",
    "qm9_03_test = \"/Users/lyamtalbot/Library/CloudStorage/OneDrive-UniversityofNewEngland/cosc320-project-group-b/qm9_tensorflow_datasets/qm9_03/qm9_03_test\"\n",
    "\n",
    "# Displaced by 0.5 angrstroms\n",
    "qm9_05_train = \"/Users/lyamtalbot/Library/CloudStorage/OneDrive-UniversityofNewEngland/cosc320-project-group-b/qm9_tensorflow_datasets/qm9_05/qm9_05_train\"\n",
    "qm9_05_test = \"/Users/lyamtalbot/Library/CloudStorage/OneDrive-UniversityofNewEngland/cosc320-project-group-b/qm9_tensorflow_datasets/qm9_05/qm9_05_test\""
   ]
  },
  {
   "cell_type": "markdown",
   "id": "28bee99c",
   "metadata": {
    "id": "28bee99c"
   },
   "source": [
    "### Batch Size\n",
    "\n",
    "We can keep the batch size high because of the light weight data\n",
    "Must be a multiple of 8"
   ]
  },
  {
   "cell_type": "code",
   "execution_count": 70,
   "id": "9710d52f",
   "metadata": {
    "id": "9710d52f"
   },
   "outputs": [],
   "source": [
    "batch_size = 32"
   ]
  },
  {
   "cell_type": "markdown",
   "id": "1858b864",
   "metadata": {
    "id": "1858b864"
   },
   "source": [
    "### Masked Average Pooling\n",
    "\n",
    "This method perform **Average Pooling** while considering the masking we have applied to padded all molecules to the same size.\n",
    "\n",
    "Our **Masked Average Pooling** is ignoring the padded nodes and only averaging across the real nodes to create a single vector per graph."
   ]
  },
  {
   "cell_type": "code",
   "execution_count": 71,
   "id": "df786dbf",
   "metadata": {
    "id": "df786dbf"
   },
   "outputs": [],
   "source": [
    "def masked_avg_pooling(x, mask):\n",
    "    mask = tf.expand_dims(mask, axis=-1) # batch_size, num_nodes, 1\n",
    "    x_masked = x * mask # zero out masked nodes\n",
    "    sum_x = tf.reduce_sum(x_masked, axis=1) # batch_size, feature_dim\n",
    "    sum_mask = tf.reduce_sum(mask, axis=1) + 1e-7 # prevent division by zero\n",
    "    return sum_x / sum_mask # batch_size, feature_dim"
   ]
  },
  {
   "cell_type": "markdown",
   "id": "3d2c7709",
   "metadata": {
    "id": "3d2c7709"
   },
   "source": [
    "### Graph Convolutional Neural Network (GCNN) Layer Class\n",
    "\n",
    "This custom layer is a based off example [MessagePassing layer by Spektral](https://graphneural.network/creating-layer/?utm_source=chatgpt.com)\n",
    "\n",
    "Which itself is based off a GCN by [Kipf & and Welling, 2016](https://arxiv.org/abs/1609.02907)\n",
    "\n",
    "For a more in-depth look at custom Keras layers please refer to the [TensorFlow Keras Documentation](https://www.tensorflow.org/api_docs/python/tf/keras/Layer?version=nightly)\n",
    "and for the [Keras Layer API](https://keras.io/api/layers/).\n",
    "\n",
    "It is essentially a standard dense layer but it allows message passing between neighbouring nodes.\n",
    "\n",
    "#### \\_\\_init\\_\\_\n",
    "This defines custom layer attributes, here we are defining our output size.\n",
    "\n",
    "#### Build Method\n",
    "This is called once to build the weights and bias based on the input shape.\n",
    "Input shape here is\n",
    "\n",
    "- Weights\n",
    "The weights are initialised in the build method using the number inputs (neurons) to generate an equal number of weights.\n",
    "The weights are what the model fine tunes as it learns.\n",
    "- We initialise with `RandomUniform` providing a uniform distribution across the range (we are using the default range).\n",
    "\n",
    "- Bias\n",
    "The Bias is important to aid learning especially if the input is centered around zero.\n",
    "- `zeros` for our initial bias which is a standard starting point.\n",
    "\n",
    "#### Call Method\n",
    "The `call` method is executed during each forward pass.\n",
    "It performs message passing between a nodes neighbours which is essential for GNNs.\n",
    "\n",
    "Then we apply the standard formula for a neural network dense layer:\n",
    "\n",
    "(Formula description from UNE COSC351 lecture notes by Andreas Shepley)\n",
    "`output = relu(dot(input, W) + b)`\n",
    "- `input` represents the set of features (pixel values in an image).\n",
    "- `W` represents a randomly initialised tensor of weights.\n",
    "- `b` represents a randomly initialised vector of bias values.\n",
    "- `relu` is the activation function that provides the layer's final output tensor.\n",
    "\n",
    "We use the result of the message passing as input.\n",
    "We apply the weight and bias to the message passing information.\n",
    "We end by using `relu` (Rectified Linear Unit) as our activation function.\n",
    "`relu` converts negative numbers to zero and introduces non-linearity for more complex features to be learned."
   ]
  },
  {
   "cell_type": "code",
   "execution_count": 72,
   "id": "2a2a0035",
   "metadata": {
    "id": "2a2a0035"
   },
   "outputs": [],
   "source": [
    "from keras.saving import register_keras_serializable\n",
    "\n",
    "# Reference: @register_keras_serialiable() was a solution provided by\n",
    "# generative AI for the issues loading the custom layer into the xyz_model.py script.\n",
    "@register_keras_serializable()\n",
    "class GCNNLayer(layers.Layer):\n",
    "    # Constructor for the Graph Convolutional Neural Network Layer\n",
    "    def __init__(self, output_size, **kwargs):\n",
    "        super().__init__(**kwargs)\n",
    "        self.output_size = output_size\n",
    "        # Should be default values\n",
    "        self.initializer = RandomUniform(minval=-0.05, maxval=0.05, seed=None)\n",
    "\n",
    "    # Build creates the state of the layer (weights and bias)\n",
    "    def build(self, input_shape):\n",
    "        # num_features per node\n",
    "        num_features = input_shape[0][-1]\n",
    "        # This is our main weights matrix\n",
    "        self.kernel = self.add_weight(shape=(num_features, self.output_size),initializer=self.initializer)\n",
    "        # This is to add a bias to the output\n",
    "        self.bias = self.add_weight(shape=(self.output_size,),initializer='zeros')\n",
    "        # Build the layer by calling the parent class and this method\n",
    "        super().build(input_shape)\n",
    "\n",
    "    # Called every forward pass for the GraphConvLayer\n",
    "    def call(self, inputs):\n",
    "        # Extract the node features and adjacency matrix\n",
    "        node_features, adjacency = inputs\n",
    "\n",
    "        # Message passing via adjacency matrix\n",
    "        # For each node, we multiply the adjacency matrix with the node features\n",
    "        messages = tf.matmul(adjacency, node_features)\n",
    "\n",
    "        # Apply the weights and bias then the activation function\n",
    "        return relu(tf.matmul(messages, self.kernel) + self.bias)"
   ]
  },
  {
   "cell_type": "markdown",
   "id": "49e4ad2f",
   "metadata": {
    "id": "49e4ad2f"
   },
   "source": [
    "### Graph Inputs\n",
    "\n",
    "- max_nodes is set to 26 meaning no input molecule can have more the 26 atoms.\n",
    "- feature_dim is set to 8 because each atom is one of five types in the QM9 dataset and it will have 3 coordinates associated with it (x, y, z)\n",
    "\n",
    "`input_mols input_adj input_mask` are declaring the shape of the tensors for our model to know what to expect."
   ]
  },
  {
   "cell_type": "code",
   "execution_count": 73,
   "id": "54b9b3e8",
   "metadata": {
    "id": "54b9b3e8"
   },
   "outputs": [],
   "source": [
    "max_nodes = 26\n",
    "feature_dim = 8\n",
    "\n",
    "# Graph inputs\n",
    "input_mols = Input(shape=(max_nodes, feature_dim), name=\"node_features_input\")\n",
    "input_adj = Input(shape=(max_nodes, max_nodes), name=\"adjacency_matrix_input\")\n",
    "input_mask = Input(shape=(max_nodes,), name=\"mask_input\")"
   ]
  },
  {
   "cell_type": "markdown",
   "id": "275b0bc1",
   "metadata": {
    "id": "275b0bc1"
   },
   "source": [
    "### Scalar Input"
   ]
  },
  {
   "cell_type": "code",
   "execution_count": 74,
   "id": "5ba1e75c",
   "metadata": {
    "id": "5ba1e75c"
   },
   "outputs": [],
   "source": [
    "# Scalar input (global)\n",
    "input_energy_gap = Input(shape=(1,), name=\"energy_gap_input\")"
   ]
  },
  {
   "cell_type": "markdown",
   "id": "8c6b3a37",
   "metadata": {
    "id": "8c6b3a37"
   },
   "source": [
    "### GCNN Layers\n",
    "\n",
    "Two GCNN layers based on testing."
   ]
  },
  {
   "cell_type": "code",
   "execution_count": 75,
   "id": "79b98e07",
   "metadata": {
    "id": "79b98e07"
   },
   "outputs": [],
   "source": [
    "x = GCNNLayer(32)([input_mols, input_adj])\n",
    "x = GCNNLayer(32)([x, input_adj])"
   ]
  },
  {
   "cell_type": "markdown",
   "id": "beb4d257",
   "metadata": {
    "id": "beb4d257"
   },
   "source": [
    "### Graph Embedding\n",
    "\n"
   ]
  },
  {
   "cell_type": "code",
   "execution_count": null,
   "id": "46e2df6d",
   "metadata": {
    "id": "46e2df6d"
   },
   "outputs": [],
   "source": [
    "graph_embedding = Lambda(\n",
    "    lambda args: masked_avg_pooling(args[0], args[1]),\n",
    "    output_shape=(32,), # make sure this matches your GCN output feature dim\n",
    "    name=\"graph_pooling\"\n",
    ")([x, input_mask]) # x: (batch_size, N, 32), input_mask: (batch_size, N)"
   ]
  },
  {
   "cell_type": "markdown",
   "id": "7f4be94d",
   "metadata": {},
   "source": [
    "### Prepare Dropout and Output Layers"
   ]
  },
  {
   "cell_type": "code",
   "execution_count": null,
   "id": "16977596",
   "metadata": {
    "id": "16977596"
   },
   "outputs": [],
   "source": [
    "# (Optional) Transform scalar input if needed\n",
    "energy_dense = Dense(8, activation='relu', name=\"energy_transform\")(input_energy_gap)\n",
    "\n",
    "# Combine graph embedding and scalar input\n",
    "combined = Concatenate(name=\"combined_features\")([graph_embedding, energy_dense])\n",
    "\n",
    "# Feed forward\n",
    "dropout = Dropout(0.5)(combined)\n",
    "output = Dense(1, activation='sigmoid')(dropout)"
   ]
  },
  {
   "cell_type": "markdown",
   "id": "469e8c36",
   "metadata": {
    "id": "469e8c36"
   },
   "source": [
    "### Model Declaration\n"
   ]
  },
  {
   "cell_type": "code",
   "execution_count": 80,
   "id": "55c80192",
   "metadata": {
    "id": "55c80192"
   },
   "outputs": [],
   "source": [
    "xyz_model = Model(inputs=[input_mols, input_adj, input_mask, input_energy_gap], outputs=output)"
   ]
  },
  {
   "cell_type": "markdown",
   "id": "01ea6a92",
   "metadata": {
    "id": "01ea6a92"
   },
   "source": [
    "### Model Checkpoint\n",
    "\n",
    "The model checkpoint is passed into the fit method as a callback, it is an automated process to save a snapshot of the model at a certain point of training.\n",
    "Here we are saving the model when validation accuracy has improved."
   ]
  },
  {
   "cell_type": "code",
   "execution_count": 81,
   "id": "28ffe677",
   "metadata": {
    "id": "28ffe677"
   },
   "outputs": [],
   "source": [
    "checkpoint_cb = ModelCheckpoint(\n",
    "filepath=\"xyz_model.keras\", # File path to save the model\n",
    "save_best_only=True, # Only save when the model is better\n",
    "monitor='val_accuracy', # Metric to monitor\n",
    "mode='max', # Mode: 'max' for accuracy\n",
    "verbose=0 # Verbosity mode\n",
    ")"
   ]
  },
  {
   "cell_type": "markdown",
   "id": "51a54d73",
   "metadata": {
    "id": "51a54d73"
   },
   "source": [
    "### Early Stopping\n",
    "\n",
    "Early stopping is passed into the fit method as a callback, it is an automated process to monitor the model as it trains.\n",
    "\n",
    "Based on the arugments it will stop training when certain conditions are met."
   ]
  },
  {
   "cell_type": "code",
   "execution_count": 82,
   "id": "c7938889",
   "metadata": {
    "id": "c7938889"
   },
   "outputs": [],
   "source": [
    "# Stop training when validation accuracy doesn't improve for 5 epochs\n",
    "earlystop_cb = EarlyStopping(\n",
    "monitor='val_accuracy', # Metric to monitor\n",
    "patience=5, # Number of epochs with no improvement after which training will be stopped\n",
    "restore_best_weights=True, # Restore model weights from the epoch with the best value of the monitored metric\n",
    "mode='max', # Mode: 'max' for accuracy\n",
    "verbose=1 # Verbosity mode\n",
    ")"
   ]
  },
  {
   "cell_type": "markdown",
   "id": "6ce74340",
   "metadata": {
    "id": "6ce74340"
   },
   "source": [
    "### Optimiser\n",
    "\n",
    "The optimiser is how the learning actually happens, it is what updates the parameters of the model.\n",
    "\n",
    "- **Adam** (Adaptive Moment Estimation) optimiser combines the best of two optimisers (AdaGrad and RMSProp).\n",
    "- **RMSProp** (Root Mean Square Propagation) is your standard optimiser for most problems.\n",
    "- **AdaGrad** (Adaptive Gradient) adapts the learning rate for each parameter."
   ]
  },
  {
   "cell_type": "code",
   "execution_count": 83,
   "id": "468a9616",
   "metadata": {
    "id": "468a9616"
   },
   "outputs": [],
   "source": [
    "optimizer = Adam(1e-3)"
   ]
  },
  {
   "cell_type": "markdown",
   "id": "97180a23",
   "metadata": {
    "id": "97180a23"
   },
   "source": [
    "### Compiling the Model\n",
    "\n",
    "**Arguments**\n",
    "- Loss Function: `BinaryFocalCrossentropy`\n",
    "- Metrics: `accuracy`"
   ]
  },
  {
   "cell_type": "code",
   "execution_count": 84,
   "id": "98044de1",
   "metadata": {
    "colab": {
     "base_uri": "https://localhost:8080/",
     "height": 666
    },
    "id": "98044de1",
    "outputId": "691dac48-8e9d-4da3-ddaa-9d2930ce79ee"
   },
   "outputs": [
    {
     "data": {
      "text/html": [
       "<pre style=\"white-space:pre;overflow-x:auto;line-height:normal;font-family:Menlo,'DejaVu Sans Mono',consolas,'Courier New',monospace\"><span style=\"font-weight: bold\">Model: \"functional_1\"</span>\n",
       "</pre>\n"
      ],
      "text/plain": [
       "\u001b[1mModel: \"functional_1\"\u001b[0m\n"
      ]
     },
     "metadata": {},
     "output_type": "display_data"
    },
    {
     "data": {
      "text/html": [
       "<pre style=\"white-space:pre;overflow-x:auto;line-height:normal;font-family:Menlo,'DejaVu Sans Mono',consolas,'Courier New',monospace\">┏━━━━━━━━━━━━━━━━━━━━━┳━━━━━━━━━━━━━━━━━━━┳━━━━━━━━━━━━┳━━━━━━━━━━━━━━━━━━━┓\n",
       "┃<span style=\"font-weight: bold\"> Layer (type)        </span>┃<span style=\"font-weight: bold\"> Output Shape      </span>┃<span style=\"font-weight: bold\">    Param # </span>┃<span style=\"font-weight: bold\"> Connected to      </span>┃\n",
       "┡━━━━━━━━━━━━━━━━━━━━━╇━━━━━━━━━━━━━━━━━━━╇━━━━━━━━━━━━╇━━━━━━━━━━━━━━━━━━━┩\n",
       "│ node_features_input │ (<span style=\"color: #00d7ff; text-decoration-color: #00d7ff\">None</span>, <span style=\"color: #00af00; text-decoration-color: #00af00\">26</span>, <span style=\"color: #00af00; text-decoration-color: #00af00\">8</span>)     │          <span style=\"color: #00af00; text-decoration-color: #00af00\">0</span> │ -                 │\n",
       "│ (<span style=\"color: #0087ff; text-decoration-color: #0087ff\">InputLayer</span>)        │                   │            │                   │\n",
       "├─────────────────────┼───────────────────┼────────────┼───────────────────┤\n",
       "│ adjacency_matrix_i… │ (<span style=\"color: #00d7ff; text-decoration-color: #00d7ff\">None</span>, <span style=\"color: #00af00; text-decoration-color: #00af00\">26</span>, <span style=\"color: #00af00; text-decoration-color: #00af00\">26</span>)    │          <span style=\"color: #00af00; text-decoration-color: #00af00\">0</span> │ -                 │\n",
       "│ (<span style=\"color: #0087ff; text-decoration-color: #0087ff\">InputLayer</span>)        │                   │            │                   │\n",
       "├─────────────────────┼───────────────────┼────────────┼───────────────────┤\n",
       "│ gcnn_layer_2        │ (<span style=\"color: #00d7ff; text-decoration-color: #00d7ff\">None</span>, <span style=\"color: #00af00; text-decoration-color: #00af00\">26</span>, <span style=\"color: #00af00; text-decoration-color: #00af00\">32</span>)    │        <span style=\"color: #00af00; text-decoration-color: #00af00\">288</span> │ node_features_in… │\n",
       "│ (<span style=\"color: #0087ff; text-decoration-color: #0087ff\">GCNNLayer</span>)         │                   │            │ adjacency_matrix… │\n",
       "├─────────────────────┼───────────────────┼────────────┼───────────────────┤\n",
       "│ gcnn_layer_3        │ (<span style=\"color: #00d7ff; text-decoration-color: #00d7ff\">None</span>, <span style=\"color: #00af00; text-decoration-color: #00af00\">26</span>, <span style=\"color: #00af00; text-decoration-color: #00af00\">32</span>)    │      <span style=\"color: #00af00; text-decoration-color: #00af00\">1,056</span> │ gcnn_layer_2[<span style=\"color: #00af00; text-decoration-color: #00af00\">0</span>][<span style=\"color: #00af00; text-decoration-color: #00af00\">…</span> │\n",
       "│ (<span style=\"color: #0087ff; text-decoration-color: #0087ff\">GCNNLayer</span>)         │                   │            │ adjacency_matrix… │\n",
       "├─────────────────────┼───────────────────┼────────────┼───────────────────┤\n",
       "│ mask_input          │ (<span style=\"color: #00d7ff; text-decoration-color: #00d7ff\">None</span>, <span style=\"color: #00af00; text-decoration-color: #00af00\">26</span>)        │          <span style=\"color: #00af00; text-decoration-color: #00af00\">0</span> │ -                 │\n",
       "│ (<span style=\"color: #0087ff; text-decoration-color: #0087ff\">InputLayer</span>)        │                   │            │                   │\n",
       "├─────────────────────┼───────────────────┼────────────┼───────────────────┤\n",
       "│ energy_gap_input    │ (<span style=\"color: #00d7ff; text-decoration-color: #00d7ff\">None</span>, <span style=\"color: #00af00; text-decoration-color: #00af00\">1</span>)         │          <span style=\"color: #00af00; text-decoration-color: #00af00\">0</span> │ -                 │\n",
       "│ (<span style=\"color: #0087ff; text-decoration-color: #0087ff\">InputLayer</span>)        │                   │            │                   │\n",
       "├─────────────────────┼───────────────────┼────────────┼───────────────────┤\n",
       "│ graph_pooling       │ (<span style=\"color: #00d7ff; text-decoration-color: #00d7ff\">None</span>, <span style=\"color: #00af00; text-decoration-color: #00af00\">32</span>)        │          <span style=\"color: #00af00; text-decoration-color: #00af00\">0</span> │ gcnn_layer_3[<span style=\"color: #00af00; text-decoration-color: #00af00\">0</span>][<span style=\"color: #00af00; text-decoration-color: #00af00\">…</span> │\n",
       "│ (<span style=\"color: #0087ff; text-decoration-color: #0087ff\">Lambda</span>)            │                   │            │ mask_input[<span style=\"color: #00af00; text-decoration-color: #00af00\">0</span>][<span style=\"color: #00af00; text-decoration-color: #00af00\">0</span>]  │\n",
       "├─────────────────────┼───────────────────┼────────────┼───────────────────┤\n",
       "│ energy_transform    │ (<span style=\"color: #00d7ff; text-decoration-color: #00d7ff\">None</span>, <span style=\"color: #00af00; text-decoration-color: #00af00\">8</span>)         │         <span style=\"color: #00af00; text-decoration-color: #00af00\">16</span> │ energy_gap_input… │\n",
       "│ (<span style=\"color: #0087ff; text-decoration-color: #0087ff\">Dense</span>)             │                   │            │                   │\n",
       "├─────────────────────┼───────────────────┼────────────┼───────────────────┤\n",
       "│ combined_features   │ (<span style=\"color: #00d7ff; text-decoration-color: #00d7ff\">None</span>, <span style=\"color: #00af00; text-decoration-color: #00af00\">40</span>)        │          <span style=\"color: #00af00; text-decoration-color: #00af00\">0</span> │ graph_pooling[<span style=\"color: #00af00; text-decoration-color: #00af00\">0</span>]… │\n",
       "│ (<span style=\"color: #0087ff; text-decoration-color: #0087ff\">Concatenate</span>)       │                   │            │ energy_transform… │\n",
       "├─────────────────────┼───────────────────┼────────────┼───────────────────┤\n",
       "│ dropout_1 (<span style=\"color: #0087ff; text-decoration-color: #0087ff\">Dropout</span>) │ (<span style=\"color: #00d7ff; text-decoration-color: #00d7ff\">None</span>, <span style=\"color: #00af00; text-decoration-color: #00af00\">40</span>)        │          <span style=\"color: #00af00; text-decoration-color: #00af00\">0</span> │ combined_feature… │\n",
       "├─────────────────────┼───────────────────┼────────────┼───────────────────┤\n",
       "│ dense_1 (<span style=\"color: #0087ff; text-decoration-color: #0087ff\">Dense</span>)     │ (<span style=\"color: #00d7ff; text-decoration-color: #00d7ff\">None</span>, <span style=\"color: #00af00; text-decoration-color: #00af00\">1</span>)         │         <span style=\"color: #00af00; text-decoration-color: #00af00\">41</span> │ dropout_1[<span style=\"color: #00af00; text-decoration-color: #00af00\">0</span>][<span style=\"color: #00af00; text-decoration-color: #00af00\">0</span>]   │\n",
       "└─────────────────────┴───────────────────┴────────────┴───────────────────┘\n",
       "</pre>\n"
      ],
      "text/plain": [
       "┏━━━━━━━━━━━━━━━━━━━━━┳━━━━━━━━━━━━━━━━━━━┳━━━━━━━━━━━━┳━━━━━━━━━━━━━━━━━━━┓\n",
       "┃\u001b[1m \u001b[0m\u001b[1mLayer (type)       \u001b[0m\u001b[1m \u001b[0m┃\u001b[1m \u001b[0m\u001b[1mOutput Shape     \u001b[0m\u001b[1m \u001b[0m┃\u001b[1m \u001b[0m\u001b[1m   Param #\u001b[0m\u001b[1m \u001b[0m┃\u001b[1m \u001b[0m\u001b[1mConnected to     \u001b[0m\u001b[1m \u001b[0m┃\n",
       "┡━━━━━━━━━━━━━━━━━━━━━╇━━━━━━━━━━━━━━━━━━━╇━━━━━━━━━━━━╇━━━━━━━━━━━━━━━━━━━┩\n",
       "│ node_features_input │ (\u001b[38;5;45mNone\u001b[0m, \u001b[38;5;34m26\u001b[0m, \u001b[38;5;34m8\u001b[0m)     │          \u001b[38;5;34m0\u001b[0m │ -                 │\n",
       "│ (\u001b[38;5;33mInputLayer\u001b[0m)        │                   │            │                   │\n",
       "├─────────────────────┼───────────────────┼────────────┼───────────────────┤\n",
       "│ adjacency_matrix_i… │ (\u001b[38;5;45mNone\u001b[0m, \u001b[38;5;34m26\u001b[0m, \u001b[38;5;34m26\u001b[0m)    │          \u001b[38;5;34m0\u001b[0m │ -                 │\n",
       "│ (\u001b[38;5;33mInputLayer\u001b[0m)        │                   │            │                   │\n",
       "├─────────────────────┼───────────────────┼────────────┼───────────────────┤\n",
       "│ gcnn_layer_2        │ (\u001b[38;5;45mNone\u001b[0m, \u001b[38;5;34m26\u001b[0m, \u001b[38;5;34m32\u001b[0m)    │        \u001b[38;5;34m288\u001b[0m │ node_features_in… │\n",
       "│ (\u001b[38;5;33mGCNNLayer\u001b[0m)         │                   │            │ adjacency_matrix… │\n",
       "├─────────────────────┼───────────────────┼────────────┼───────────────────┤\n",
       "│ gcnn_layer_3        │ (\u001b[38;5;45mNone\u001b[0m, \u001b[38;5;34m26\u001b[0m, \u001b[38;5;34m32\u001b[0m)    │      \u001b[38;5;34m1,056\u001b[0m │ gcnn_layer_2[\u001b[38;5;34m0\u001b[0m][\u001b[38;5;34m…\u001b[0m │\n",
       "│ (\u001b[38;5;33mGCNNLayer\u001b[0m)         │                   │            │ adjacency_matrix… │\n",
       "├─────────────────────┼───────────────────┼────────────┼───────────────────┤\n",
       "│ mask_input          │ (\u001b[38;5;45mNone\u001b[0m, \u001b[38;5;34m26\u001b[0m)        │          \u001b[38;5;34m0\u001b[0m │ -                 │\n",
       "│ (\u001b[38;5;33mInputLayer\u001b[0m)        │                   │            │                   │\n",
       "├─────────────────────┼───────────────────┼────────────┼───────────────────┤\n",
       "│ energy_gap_input    │ (\u001b[38;5;45mNone\u001b[0m, \u001b[38;5;34m1\u001b[0m)         │          \u001b[38;5;34m0\u001b[0m │ -                 │\n",
       "│ (\u001b[38;5;33mInputLayer\u001b[0m)        │                   │            │                   │\n",
       "├─────────────────────┼───────────────────┼────────────┼───────────────────┤\n",
       "│ graph_pooling       │ (\u001b[38;5;45mNone\u001b[0m, \u001b[38;5;34m32\u001b[0m)        │          \u001b[38;5;34m0\u001b[0m │ gcnn_layer_3[\u001b[38;5;34m0\u001b[0m][\u001b[38;5;34m…\u001b[0m │\n",
       "│ (\u001b[38;5;33mLambda\u001b[0m)            │                   │            │ mask_input[\u001b[38;5;34m0\u001b[0m][\u001b[38;5;34m0\u001b[0m]  │\n",
       "├─────────────────────┼───────────────────┼────────────┼───────────────────┤\n",
       "│ energy_transform    │ (\u001b[38;5;45mNone\u001b[0m, \u001b[38;5;34m8\u001b[0m)         │         \u001b[38;5;34m16\u001b[0m │ energy_gap_input… │\n",
       "│ (\u001b[38;5;33mDense\u001b[0m)             │                   │            │                   │\n",
       "├─────────────────────┼───────────────────┼────────────┼───────────────────┤\n",
       "│ combined_features   │ (\u001b[38;5;45mNone\u001b[0m, \u001b[38;5;34m40\u001b[0m)        │          \u001b[38;5;34m0\u001b[0m │ graph_pooling[\u001b[38;5;34m0\u001b[0m]… │\n",
       "│ (\u001b[38;5;33mConcatenate\u001b[0m)       │                   │            │ energy_transform… │\n",
       "├─────────────────────┼───────────────────┼────────────┼───────────────────┤\n",
       "│ dropout_1 (\u001b[38;5;33mDropout\u001b[0m) │ (\u001b[38;5;45mNone\u001b[0m, \u001b[38;5;34m40\u001b[0m)        │          \u001b[38;5;34m0\u001b[0m │ combined_feature… │\n",
       "├─────────────────────┼───────────────────┼────────────┼───────────────────┤\n",
       "│ dense_1 (\u001b[38;5;33mDense\u001b[0m)     │ (\u001b[38;5;45mNone\u001b[0m, \u001b[38;5;34m1\u001b[0m)         │         \u001b[38;5;34m41\u001b[0m │ dropout_1[\u001b[38;5;34m0\u001b[0m][\u001b[38;5;34m0\u001b[0m]   │\n",
       "└─────────────────────┴───────────────────┴────────────┴───────────────────┘\n"
      ]
     },
     "metadata": {},
     "output_type": "display_data"
    },
    {
     "data": {
      "text/html": [
       "<pre style=\"white-space:pre;overflow-x:auto;line-height:normal;font-family:Menlo,'DejaVu Sans Mono',consolas,'Courier New',monospace\"><span style=\"font-weight: bold\"> Total params: </span><span style=\"color: #00af00; text-decoration-color: #00af00\">1,401</span> (5.47 KB)\n",
       "</pre>\n"
      ],
      "text/plain": [
       "\u001b[1m Total params: \u001b[0m\u001b[38;5;34m1,401\u001b[0m (5.47 KB)\n"
      ]
     },
     "metadata": {},
     "output_type": "display_data"
    },
    {
     "data": {
      "text/html": [
       "<pre style=\"white-space:pre;overflow-x:auto;line-height:normal;font-family:Menlo,'DejaVu Sans Mono',consolas,'Courier New',monospace\"><span style=\"font-weight: bold\"> Trainable params: </span><span style=\"color: #00af00; text-decoration-color: #00af00\">1,401</span> (5.47 KB)\n",
       "</pre>\n"
      ],
      "text/plain": [
       "\u001b[1m Trainable params: \u001b[0m\u001b[38;5;34m1,401\u001b[0m (5.47 KB)\n"
      ]
     },
     "metadata": {},
     "output_type": "display_data"
    },
    {
     "data": {
      "text/html": [
       "<pre style=\"white-space:pre;overflow-x:auto;line-height:normal;font-family:Menlo,'DejaVu Sans Mono',consolas,'Courier New',monospace\"><span style=\"font-weight: bold\"> Non-trainable params: </span><span style=\"color: #00af00; text-decoration-color: #00af00\">0</span> (0.00 B)\n",
       "</pre>\n"
      ],
      "text/plain": [
       "\u001b[1m Non-trainable params: \u001b[0m\u001b[38;5;34m0\u001b[0m (0.00 B)\n"
      ]
     },
     "metadata": {},
     "output_type": "display_data"
    }
   ],
   "source": [
    "xyz_model.compile(optimizer=optimizer,\n",
    "              loss = BinaryFocalCrossentropy(\n",
    "              apply_class_balancing=False,\n",
    "              alpha=0.25,\n",
    "              gamma=2,\n",
    "              from_logits=False,\n",
    "              label_smoothing=0.0,\n",
    "              axis=-1,\n",
    "              reduction=\"sum_over_batch_size\",\n",
    "              name=\"binary_focal_crossentropy\",\n",
    "              dtype=None,\n",
    "              ),\n",
    "              metrics=['accuracy'],\n",
    "                )\n",
    "xyz_model.summary()"
   ]
  },
  {
   "cell_type": "markdown",
   "id": "4bc04cf5",
   "metadata": {
    "id": "4bc04cf5"
   },
   "source": [
    "### Train/Val/Test Datasets\n",
    "\n",
    "Splitting the data into three datasets.\n",
    "\n",
    "- Train: This is the largest dataset and it is the dataset that the model uses to learn patterns and features and specifically to update its weights with the loss function.\n",
    "\n",
    "- Val: The validation data is taken from the training data before training occurs, it is passed in alongside the training data for monitoring the training performance.\n",
    "\n",
    "- Test: It is critical that during training the model does not see the test dataset. Here, the test dataset is kept in a seperate folder to ensure the model cannot learn the test data."
   ]
  },
  {
   "cell_type": "code",
   "execution_count": 85,
   "id": "4e6f66dc",
   "metadata": {
    "colab": {
     "base_uri": "https://localhost:8080/"
    },
    "id": "4e6f66dc",
    "outputId": "f9a26aa7-09f5-43d1-bfcc-7d80caa97cc4"
   },
   "outputs": [
    {
     "name": "stdout",
     "output_type": "stream",
     "text": [
      "molecule shape: (26, 8)\n",
      "adj shape: (26, 26)\n",
      "mask shape: (26,)\n",
      "energy_gap shape: (1,)\n",
      "label shape: (1,)\n"
     ]
    }
   ],
   "source": [
    "train_ds = tf.data.Dataset.load(qm9_03_train)\n",
    "test_ds = tf.data.Dataset.load(qm9_03_test)\n",
    "test_ds_05 = tf.data.Dataset.load(qm9_05_test)\n",
    "\n",
    "for (molecule, adj, mask, energy_gap), label in train_ds.take(1):\n",
    "    print(\"molecule shape:\", molecule.shape)\n",
    "    print(\"adj shape:\", adj.shape)\n",
    "    print(\"mask shape:\", mask.shape)\n",
    "    print(\"energy_gap shape:\", energy_gap.shape)\n",
    "    print(\"label shape:\", label.shape)\n",
    "\n",
    "full_train_ds = train_ds\n",
    "total = train_ds.cardinality().numpy()\n",
    "train_size = int(total * 0.8)\n",
    "\n",
    "train_ds = train_ds.take(train_size)\n",
    "val_ds = full_train_ds.skip(train_size)\n",
    "\n",
    "train_ds = train_ds.batch(batch_size, drop_remainder=True)\n",
    "val_ds = val_ds.batch(batch_size, drop_remainder=True)\n",
    "test_ds = test_ds.batch(batch_size, drop_remainder=True)\n",
    "test_ds_05 = test_ds_05.batch(batch_size, drop_remainder=True)"
   ]
  },
  {
   "cell_type": "markdown",
   "id": "6777c929",
   "metadata": {
    "id": "6777c929"
   },
   "source": [
    "### Training the Model\n",
    "\n",
    "The training method `fit()` returns a history object that we can use to observe performance."
   ]
  },
  {
   "cell_type": "code",
   "execution_count": 86,
   "id": "0416e7fb",
   "metadata": {
    "colab": {
     "base_uri": "https://localhost:8080/"
    },
    "id": "0416e7fb",
    "outputId": "90d65ea4-6384-48c0-ce48-b6727232e817"
   },
   "outputs": [
    {
     "name": "stdout",
     "output_type": "stream",
     "text": [
      "Epoch 1/100\n",
      "\u001b[1m400/400\u001b[0m \u001b[32m━━━━━━━━━━━━━━━━━━━━\u001b[0m\u001b[37m\u001b[0m \u001b[1m5s\u001b[0m 6ms/step - accuracy: 0.5037 - loss: 0.1768 - val_accuracy: 0.5322 - val_loss: 0.1724\n",
      "Epoch 2/100\n",
      "\u001b[1m400/400\u001b[0m \u001b[32m━━━━━━━━━━━━━━━━━━━━\u001b[0m\u001b[37m\u001b[0m \u001b[1m3s\u001b[0m 7ms/step - accuracy: 0.5209 - loss: 0.1731 - val_accuracy: 0.5847 - val_loss: 0.1692\n",
      "Epoch 3/100\n",
      "\u001b[1m400/400\u001b[0m \u001b[32m━━━━━━━━━━━━━━━━━━━━\u001b[0m\u001b[37m\u001b[0m \u001b[1m4s\u001b[0m 9ms/step - accuracy: 0.5764 - loss: 0.1698 - val_accuracy: 0.6306 - val_loss: 0.1636\n",
      "Epoch 4/100\n",
      "\u001b[1m400/400\u001b[0m \u001b[32m━━━━━━━━━━━━━━━━━━━━\u001b[0m\u001b[37m\u001b[0m \u001b[1m3s\u001b[0m 6ms/step - accuracy: 0.6258 - loss: 0.1630 - val_accuracy: 0.7459 - val_loss: 0.1477\n",
      "Epoch 5/100\n",
      "\u001b[1m400/400\u001b[0m \u001b[32m━━━━━━━━━━━━━━━━━━━━\u001b[0m\u001b[37m\u001b[0m \u001b[1m2s\u001b[0m 5ms/step - accuracy: 0.7272 - loss: 0.1452 - val_accuracy: 0.8087 - val_loss: 0.1265\n",
      "Epoch 6/100\n",
      "\u001b[1m400/400\u001b[0m \u001b[32m━━━━━━━━━━━━━━━━━━━━\u001b[0m\u001b[37m\u001b[0m \u001b[1m2s\u001b[0m 5ms/step - accuracy: 0.7863 - loss: 0.1264 - val_accuracy: 0.8225 - val_loss: 0.1118\n",
      "Epoch 7/100\n",
      "\u001b[1m400/400\u001b[0m \u001b[32m━━━━━━━━━━━━━━━━━━━━\u001b[0m\u001b[37m\u001b[0m \u001b[1m3s\u001b[0m 6ms/step - accuracy: 0.8109 - loss: 0.1138 - val_accuracy: 0.8234 - val_loss: 0.1064\n",
      "Epoch 8/100\n",
      "\u001b[1m400/400\u001b[0m \u001b[32m━━━━━━━━━━━━━━━━━━━━\u001b[0m\u001b[37m\u001b[0m \u001b[1m3s\u001b[0m 7ms/step - accuracy: 0.8142 - loss: 0.1098 - val_accuracy: 0.8241 - val_loss: 0.1026\n",
      "Epoch 9/100\n",
      "\u001b[1m400/400\u001b[0m \u001b[32m━━━━━━━━━━━━━━━━━━━━\u001b[0m\u001b[37m\u001b[0m \u001b[1m4s\u001b[0m 5ms/step - accuracy: 0.8162 - loss: 0.1081 - val_accuracy: 0.8238 - val_loss: 0.1016\n",
      "Epoch 10/100\n",
      "\u001b[1m400/400\u001b[0m \u001b[32m━━━━━━━━━━━━━━━━━━━━\u001b[0m\u001b[37m\u001b[0m \u001b[1m2s\u001b[0m 6ms/step - accuracy: 0.8158 - loss: 0.1056 - val_accuracy: 0.8234 - val_loss: 0.1008\n",
      "Epoch 11/100\n",
      "\u001b[1m400/400\u001b[0m \u001b[32m━━━━━━━━━━━━━━━━━━━━\u001b[0m\u001b[37m\u001b[0m \u001b[1m2s\u001b[0m 5ms/step - accuracy: 0.8164 - loss: 0.1037 - val_accuracy: 0.8228 - val_loss: 0.1004\n",
      "Epoch 12/100\n",
      "\u001b[1m400/400\u001b[0m \u001b[32m━━━━━━━━━━━━━━━━━━━━\u001b[0m\u001b[37m\u001b[0m \u001b[1m2s\u001b[0m 6ms/step - accuracy: 0.8158 - loss: 0.1040 - val_accuracy: 0.8225 - val_loss: 0.1000\n",
      "Epoch 13/100\n",
      "\u001b[1m400/400\u001b[0m \u001b[32m━━━━━━━━━━━━━━━━━━━━\u001b[0m\u001b[37m\u001b[0m \u001b[1m3s\u001b[0m 8ms/step - accuracy: 0.8159 - loss: 0.1034 - val_accuracy: 0.8219 - val_loss: 0.1003\n",
      "Epoch 13: early stopping\n",
      "Restoring model weights from the end of the best epoch: 8.\n"
     ]
    }
   ],
   "source": [
    "history = xyz_model.fit(train_ds, validation_data=val_ds, epochs=100, callbacks=[checkpoint_cb, earlystop_cb])"
   ]
  },
  {
   "cell_type": "markdown",
   "id": "c54b1cb8",
   "metadata": {
    "id": "c54b1cb8"
   },
   "source": [
    "### Visualise the training performance\n"
   ]
  },
  {
   "cell_type": "code",
   "execution_count": 87,
   "id": "ae57a3e7",
   "metadata": {
    "colab": {
     "base_uri": "https://localhost:8080/",
     "height": 466
    },
    "id": "ae57a3e7",
    "outputId": "69394c9a-a619-4170-fad9-54b18d0f1b09"
   },
   "outputs": [
    {
     "data": {
      "text/plain": [
       "<matplotlib.legend.Legend at 0x7b75e8be6550>"
      ]
     },
     "execution_count": 87,
     "metadata": {},
     "output_type": "execute_result"
    },
    {
     "data": {
      "image/png": "[encoded data removed]",
      "text/plain": [
       "<Figure size 640x480 with 1 Axes>"
      ]
     },
     "metadata": {},
     "output_type": "display_data"
    }
   ],
   "source": [
    "plt.plot(history.history[\"loss\"], label=\"train loss\")\n",
    "plt.plot(history.history[\"val_loss\"], label=\"val loss\")\n",
    "plt.legend()"
   ]
  },
  {
   "cell_type": "markdown",
   "id": "0419a718",
   "metadata": {
    "id": "0419a718"
   },
   "source": [
    "### Making Predictions\n",
    "\n",
    "Here we get the model to make predictions on the unseen test data."
   ]
  },
  {
   "cell_type": "code",
   "execution_count": null,
   "id": "3b40ba86",
   "metadata": {
    "colab": {
     "base_uri": "https://localhost:8080/"
    },
    "id": "3b40ba86",
    "outputId": "1708a950-bb40-43a4-94b1-56b970b3504c"
   },
   "outputs": [
    {
     "name": "stdout",
     "output_type": "stream",
     "text": [
      "\u001b[1m125/125\u001b[0m \u001b[32m━━━━━━━━━━━━━━━━━━━━\u001b[0m\u001b[37m\u001b[0m \u001b[1m1s\u001b[0m 2ms/step\n",
      "Sample Num: 1, Real Label: 1, Predicted Label: 1, Predicted Probability: 0.5797\n",
      "Sample Num: 2, Real Label: 0, Predicted Label: 1, Predicted Probability: 0.6199\n",
      "Sample Num: 3, Real Label: 0, Predicted Label: 0, Predicted Probability: 0.2712\n",
      "Sample Num: 4, Real Label: 0, Predicted Label: 0, Predicted Probability: 0.1720\n",
      "Sample Num: 5, Real Label: 0, Predicted Label: 1, Predicted Probability: 0.5471\n",
      "Sample Num: 6, Real Label: 0, Predicted Label: 1, Predicted Probability: 0.5890\n",
      "Sample Num: 7, Real Label: 0, Predicted Label: 0, Predicted Probability: 0.1037\n",
      "Sample Num: 8, Real Label: 1, Predicted Label: 1, Predicted Probability: 0.5824\n",
      "Sample Num: 9, Real Label: 1, Predicted Label: 1, Predicted Probability: 0.5758\n",
      "Sample Num: 10, Real Label: 1, Predicted Label: 1, Predicted Probability: 0.5945\n",
      "\n",
      "Correctly classified:  7/10\n"
     ]
    }
   ],
   "source": [
    "# Run predictions on our test dataset\n",
    "preds = xyz_model.predict(test_ds).flatten()\n",
    "\n",
    "# This is for storing our labels\n",
    "true = []\n",
    "\n",
    "# Extract and store each label\n",
    "for _, y in test_ds.as_numpy_iterator():\n",
    "    true.extend(y)\n",
    "true = np.array(true).flatten()\n",
    "\n",
    "# Count the number of correct vs incorrect predictions\n",
    "correct = 0\n",
    "incorrect = 0\n",
    "\n",
    "# Iterate through the predictions, round the probability for a label\n",
    "for i in range(10):\n",
    "    rounded = int(np.round(preds[i]))\n",
    "    actual = int(true[i])\n",
    "    if rounded == actual:\n",
    "        correct += 1\n",
    "    else:\n",
    "        incorrect += 1\n",
    "    print(f\"Sample Num: {i+1}, Real Label: {actual}, Predicted Label: {rounded}, Predicted Probability: {preds[i]:.4f}\")\n",
    "\n",
    "print(f\"\\nCorrectly classified: {correct}/{incorrect + correct}\")"
   ]
  },
  {
   "cell_type": "code",
   "execution_count": null,
   "id": "0aff8978",
   "metadata": {
    "colab": {
     "base_uri": "https://localhost:8080/"
    },
    "id": "0aff8978",
    "outputId": "a16b2659-6535-4292-8201-a43e45179253"
   },
   "outputs": [
    {
     "name": "stdout",
     "output_type": "stream",
     "text": [
      "\u001b[1m124/124\u001b[0m \u001b[32m━━━━━━━━━━━━━━━━━━━━\u001b[0m\u001b[37m\u001b[0m \u001b[1m0s\u001b[0m 2ms/step\n",
      "Sample Num: 1, Real Label: 1, Predicted Label: 1, Predicted Probability: 0.6132\n",
      "Sample Num: 2, Real Label: 0, Predicted Label: 1, Predicted Probability: 0.5743\n",
      "Sample Num: 3, Real Label: 0, Predicted Label: 1, Predicted Probability: 0.5659\n",
      "Sample Num: 4, Real Label: 1, Predicted Label: 1, Predicted Probability: 0.5759\n",
      "Sample Num: 5, Real Label: 0, Predicted Label: 0, Predicted Probability: 0.1869\n",
      "Sample Num: 6, Real Label: 1, Predicted Label: 1, Predicted Probability: 0.6066\n",
      "Sample Num: 7, Real Label: 0, Predicted Label: 0, Predicted Probability: 0.0395\n",
      "Sample Num: 8, Real Label: 0, Predicted Label: 0, Predicted Probability: 0.2870\n",
      "Sample Num: 9, Real Label: 0, Predicted Label: 0, Predicted Probability: 0.1809\n",
      "Sample Num: 10, Real Label: 1, Predicted Label: 1, Predicted Probability: 0.5493\n",
      "\n",
      "Correctly classified:  8/10\n"
     ]
    }
   ],
   "source": [
    "# Run predictions on our test dataset\n",
    "preds_05 = xyz_model.predict(test_ds_05).flatten()\n",
    "\n",
    "# This is for storing our labels\n",
    "true_05 = []\n",
    "\n",
    "# Extract and store each label\n",
    "for _, y in test_ds_05.as_numpy_iterator():\n",
    "    true_05.extend(y)\n",
    "true_05 = np.array(true_05).flatten()\n",
    "\n",
    "# Count the number of correct vs incorrect predictions\n",
    "correct_05 = 0\n",
    "incorrect_05 = 0\n",
    "\n",
    "# Iterate through the predictions, round the probability for a label\n",
    "for i in range(10):\n",
    "    rounded_05 = int(np.round(preds_05[i]))\n",
    "    if rounded_05 == true_05[i]:\n",
    "        correct_05 += 1\n",
    "    else:\n",
    "        incorrect_05 += 1\n",
    "    print(f\"Sample Num: {i+1}, Real Label: {int(true_05[i])}, Predicted Label: {rounded_05}, Predicted Probability: {preds_05[i]:.4f}\")\n",
    "\n",
    "print(f\"\\nCorrectly classified: {correct_05}/{correct_05 + incorrect_05}\")"
   ]
  },
  {
   "cell_type": "code",
   "execution_count": null,
   "id": "e2ae3faf",
   "metadata": {
    "colab": {
     "base_uri": "https://localhost:8080/"
    },
    "id": "e2ae3faf",
    "outputId": "c6b39565-995d-4171-f6e6-c785ad214e1e"
   },
   "outputs": [
    {
     "name": "stdout",
     "output_type": "stream",
     "text": [
      "\n",
      "\n",
      "Classification with 0.3 Angstrom displacement:  7/10\n",
      "\n",
      "\n",
      "Classification with 0.5 Angstrom displacement:  8/10\n"
     ]
    }
   ],
   "source": [
    "print(f\"\\n\\nClassification with 0.3 Angstrom displacement: {correct}/{correct + incorrect}\")\n",
    "print(f\"\\n\\nClassification with 0.5 Angstrom displacement: {correct_05}/{correct_05 + incorrect_05}\")"
   ]
  },
  {
   "cell_type": "markdown",
   "id": "403db63e",
   "metadata": {
    "id": "403db63e"
   },
   "source": [
    "### Evaluating the Model\n",
    "\n",
    "The evaluate method can be executed on either the test or val datasets to return some metrics on how the model performs."
   ]
  },
  {
   "cell_type": "code",
   "execution_count": null,
   "id": "sdTxRHfAFv7b",
   "metadata": {
    "colab": {
     "base_uri": "https://localhost:8080/"
    },
    "id": "sdTxRHfAFv7b",
    "outputId": "09a79117-5776-452d-b1b0-300d7256698b"
   },
   "outputs": [
    {
     "name": "stdout",
     "output_type": "stream",
     "text": [
      "\u001b[1m124/124\u001b[0m \u001b[32m━━━━━━━━━━━━━━━━━━━━\u001b[0m\u001b[37m\u001b[0m \u001b[1m1s\u001b[0m 4ms/step - accuracy: 0.8200 - loss: 0.1006\n"
     ]
    }
   ],
   "source": [
    "loss, accuracy = xyz_model.evaluate(test_ds_05)"
   ]
  },
  {
   "cell_type": "code",
   "execution_count": null,
   "id": "5ed4b6f0",
   "metadata": {
    "colab": {
     "base_uri": "https://localhost:8080/"
    },
    "id": "5ed4b6f0",
    "outputId": "7aa637c8-9482-480b-db80-9aca08102bd1"
   },
   "outputs": [
    {
     "name": "stdout",
     "output_type": "stream",
     "text": [
      "\u001b[1m125/125\u001b[0m \u001b[32m━━━━━━━━━━━━━━━━━━━━\u001b[0m\u001b[37m\u001b[0m \u001b[1m0s\u001b[0m 3ms/step - accuracy: 0.8133 - loss: 0.1028\n"
     ]
    }
   ],
   "source": [
    "loss, accuracy = xyz_model.evaluate(test_ds)"
   ]
  },
  {
   "cell_type": "markdown",
   "id": "00f4ZjFMBxKs",
   "metadata": {
    "id": "00f4ZjFMBxKs"
   },
   "source": [
    "### Save the model"
   ]
  },
  {
   "cell_type": "code",
   "execution_count": null,
   "id": "A-WfwvfzuprC",
   "metadata": {
    "id": "A-WfwvfzuprC"
   },
   "outputs": [],
   "source": [
    "xyz_model.save(\"/content/drive/MyDrive/xyz_model.keras\", include_optimizer=False)"
   ]
  }
 ],
 "metadata": {
  "accelerator": "GPU",
  "colab": {
   "gpuType": "T4",
   "provenance": []
  },
  "kernelspec": {
   "display_name": "Python [conda env:base] *",
   "language": "python",
   "name": "conda-base-py"
  },
  "language_info": {
   "codemirror_mode": {
    "name": "ipython",
    "version": 3
   },
   "file_extension": ".py",
   "mimetype": "text/x-python",
   "name": "python",
   "nbconvert_exporter": "python",
   "pygments_lexer": "ipython3",
   "version": "3.12.2"
  }
 },
 "nbformat": 4,
 "nbformat_minor": 5
}
