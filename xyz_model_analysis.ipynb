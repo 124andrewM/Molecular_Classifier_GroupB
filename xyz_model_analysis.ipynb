{
 "cells": [
  {
   "cell_type": "markdown",
   "id": "aff8a04b-6ccc-4b3e-9933-2d4fb267ae17",
   "metadata": {},
   "source": [
    "# Classifier Performance Analysis\n",
    "\n",
    "This notebook evaluates the performance of a model trained using 'xyz_training_model.ipynb'.\n",
    "\n",
    "The training notebook contains some performance analysis, particularly comparing the training and validation loss as well as outputting the final loss and accuracy on the test set. Here we focus and expand upon the final test performance.\n",
    "\n",
    "A few markdown/plaintext sections contain explanations and interpretations of outputs that are written with our original saved model in mind. These are denoted by the following line (just an example in this case)...\n",
    "\n",
    "#### [Original Model/Data Only]\n",
    "\n",
    "...The content of these sections will not match the results and statistics produced by a different model or when using different test data. This notebook can still be used in these cases, but the textual elements in question should be ignored. Some variable names may also reflect this original purpose (e.g. 'qm9_03_test').\n",
    "\n",
    "This notebook makes use of code from our various other notebooks and scripts. Documentation and disclaimers such as references to use of AI are included where applicable."
   ]
  },
  {
   "cell_type": "markdown",
   "id": "f7310f4e-c245-4c4a-9494-a121a855f556",
   "metadata": {},
   "source": [
    "### Imports\n",
    "\n",
    "All imports are grouped here for clarity"
   ]
  },
  {
   "cell_type": "code",
   "execution_count": 3,
   "id": "6d7c4cbf-2d60-4db3-917f-300fe19aa6d7",
   "metadata": {},
   "outputs": [
    {
     "name": "stderr",
     "output_type": "stream",
     "text": [
      "2025-05-22 13:41:31.415270: I tensorflow/core/util/port.cc:153] oneDNN custom operations are on. You may see slightly different numerical results due to floating-point round-off errors from different computation orders. To turn them off, set the environment variable `TF_ENABLE_ONEDNN_OPTS=0`.\n",
      "2025-05-22 13:41:31.416109: I external/local_xla/xla/tsl/cuda/cudart_stub.cc:32] Could not find cuda drivers on your machine, GPU will not be used.\n",
      "2025-05-22 13:41:31.418527: I external/local_xla/xla/tsl/cuda/cudart_stub.cc:32] Could not find cuda drivers on your machine, GPU will not be used.\n",
      "2025-05-22 13:41:31.426370: E external/local_xla/xla/stream_executor/cuda/cuda_fft.cc:467] Unable to register cuFFT factory: Attempting to register factory for plugin cuFFT when one has already been registered\n",
      "WARNING: All log messages before absl::InitializeLog() is called are written to STDERR\n",
      "E0000 00:00:1747885291.437730   19210 cuda_dnn.cc:8579] Unable to register cuDNN factory: Attempting to register factory for plugin cuDNN when one has already been registered\n",
      "E0000 00:00:1747885291.441407   19210 cuda_blas.cc:1407] Unable to register cuBLAS factory: Attempting to register factory for plugin cuBLAS when one has already been registered\n",
      "W0000 00:00:1747885291.449842   19210 computation_placer.cc:177] computation placer already registered. Please check linkage and avoid linking the same target more than once.\n",
      "W0000 00:00:1747885291.449854   19210 computation_placer.cc:177] computation placer already registered. Please check linkage and avoid linking the same target more than once.\n",
      "W0000 00:00:1747885291.449856   19210 computation_placer.cc:177] computation placer already registered. Please check linkage and avoid linking the same target more than once.\n",
      "W0000 00:00:1747885291.449857   19210 computation_placer.cc:177] computation placer already registered. Please check linkage and avoid linking the same target more than once.\n",
      "2025-05-22 13:41:31.452987: I tensorflow/core/platform/cpu_feature_guard.cc:210] This TensorFlow binary is optimized to use available CPU instructions in performance-critical operations.\n",
      "To enable the following instructions: AVX2 AVX512F AVX512_VNNI FMA, in other operations, rebuild TensorFlow with the appropriate compiler flags.\n"
     ]
    }
   ],
   "source": [
    "import numpy as np\n",
    "import tensorflow as tf\n",
    "import matplotlib.pyplot as plt\n",
    "\n",
    "from keras.config import enable_unsafe_deserialization\n",
    "from keras.saving import register_keras_serializable\n",
    "\n",
    "from sklearn import metrics\n",
    "\n",
    "from tensorflow.keras import layers\n",
    "from tensorflow.keras.layers import Lambda\n",
    "from tensorflow.keras.activations import relu\n",
    "from tensorflow.keras.initializers import RandomUniform"
   ]
  },
  {
   "cell_type": "markdown",
   "id": "156e6a31-b259-4375-aea9-2d66625796f1",
   "metadata": {},
   "source": [
    "### Datasets\n",
    "\n",
    "Here we load the test data from the provided file path(s). Be sure to update said paths to match the location of your data if necessary.\n",
    "\n",
    "#### [Original Model/Data Only]\n",
    "\n",
    "This notebook uses the test data from the same datasets as the training notebook (by default). These sets are comprised of a mix of in-equilibrium molecules taken directly from the QM9 database and some artificial out-of-equilibrium molecules. The latter were created by randomly displacing some of the atoms for other samples from the QM9 database.\n",
    "\n",
    "The two datasets were created using different levels of displacement.\n",
    "\n",
    "1. Molecules in the primary dataset have a total displacement of 0.3 angrstroms across the atoms coordinates.\n",
    "2. Molecules in the secondary dataset have a total displacement of 0.5 angstroms across the atoms coordinates."
   ]
  },
  {
   "cell_type": "code",
   "execution_count": 5,
   "id": "9e202d91-8a43-47c4-8ba0-7aaaf03a59d4",
   "metadata": {},
   "outputs": [],
   "source": [
    "# --- GOOGLE DRIVE --- #\n",
    "# If you are running this in Google Colab, using your Google Drive for the dataset, run\n",
    "# this cell (or uncomment the following lines and comment out those in the next cell)\n",
    "#from google.colab import drive\n",
    "\n",
    "#drive.mount('/content/drive')\n",
    "\n",
    "# Then in the next cell, set the path to your directories in Google Drive.\n",
    "# e.g.\n",
    "#qm9_03_test = '/content/drive/MyDrive/qm9_03_test'\n",
    "#qm9_05_test = '/content/drive/MyDrive/qm9_05_test'"
   ]
  },
  {
   "cell_type": "code",
   "execution_count": 6,
   "id": "48698777-feb1-4acd-8aed-e64b057292f2",
   "metadata": {},
   "outputs": [],
   "source": [
    "# --- LOCAL FILES --- #\n",
    "\n",
    "# Displaced by 0.3 angrstroms\n",
    "qm9_03_test = \"qm9_03/qm9_03_test\"\n",
    "\n",
    "# Displaced by 0.5 angrstroms\n",
    "qm9_05_test = \"qm9_05/qm9_05_test\""
   ]
  },
  {
   "cell_type": "markdown",
   "id": "e70c4b5d-e02b-40a6-9a06-39169276db01",
   "metadata": {},
   "source": [
    "### Custom Layers\n",
    "\n",
    "The training notebook defines several custom layers that are used in the model. We need to define those layers here as well in order to make predictions using the model."
   ]
  },
  {
   "cell_type": "code",
   "execution_count": 8,
   "id": "697e016d-88f3-4938-843f-7448418c3c51",
   "metadata": {},
   "outputs": [],
   "source": [
    "def masked_avg_pooling(x, mask):\n",
    "    mask = tf.expand_dims(mask, axis=-1) # -> (batch_size, num_nodes, 1)\n",
    "    x_masked = x * mask # zero out masked nodes\n",
    "    sum_x = tf.reduce_sum(x_masked, axis=1) # (batch_size, feature_dim)\n",
    "    sum_mask = tf.reduce_sum(mask, axis=1) + 1e-7 # prevent division by zero\n",
    "    return sum_x / sum_mask # (batch_size, feature_dim)\n",
    "\n",
    "@register_keras_serializable()\n",
    "class GCNNLayer(layers.Layer):\n",
    "    # Constructor for the Graph Convolutional Neural Network Layer\n",
    "    def __init__(self, output_size, **kwargs):\n",
    "        super().__init__(**kwargs)\n",
    "        self.output_size = output_size\n",
    "        # Should be default values\n",
    "        self.initializer = RandomUniform(minval=-0.05, maxval=0.05, seed=None)\n",
    "\n",
    "    # Build creates the state of the layer (weights and bias)\n",
    "    def build(self, input_shape):\n",
    "        # num_features per node\n",
    "        num_features = input_shape[0][-1]\n",
    "        # This is our main weights matrix\n",
    "        self.kernel = self.add_weight(shape=(num_features, self.output_size),initializer=self.initializer)\n",
    "        # This is to add a bias to the output\n",
    "        self.bias = self.add_weight(shape=(self.output_size,),initializer='zeros')\n",
    "        # Build the layer by calling the parent class and this method\n",
    "        super().build(input_shape)\n",
    "\n",
    "    # Called every forward pass for the GraphConvLayer\n",
    "    def call(self, inputs):\n",
    "        # Extract the node features and adjacency matrix\n",
    "        node_features, adjacency = inputs\n",
    "\n",
    "        # Message passing via adjacency matrix\n",
    "        # For each node, we multiply the adjacency matrix with the node features\n",
    "        messages = tf.matmul(adjacency, node_features)\n",
    "\n",
    "        # Apply the weights and bias then the activation function\n",
    "        return relu(tf.matmul(messages, self.kernel) + self.bias)"
   ]
  },
  {
   "cell_type": "markdown",
   "id": "bb0be947-a4aa-40a0-a34d-f3f9c59157b3",
   "metadata": {},
   "source": [
    "### Load Model\n",
    "\n",
    "The training notebook exports the trained model as a .keras file. We can load that file in order to make use of the already trained model. The .keras file must be in the same directory, otherwise the file path within the load_model() function should be adjusted accordingly."
   ]
  },
  {
   "cell_type": "code",
   "execution_count": 10,
   "id": "c451c98b-dfed-4084-bc6d-39d8ccc8b2a4",
   "metadata": {},
   "outputs": [
    {
     "name": "stderr",
     "output_type": "stream",
     "text": [
      "2025-05-22 13:41:32.900629: E external/local_xla/xla/stream_executor/cuda/cuda_platform.cc:51] failed call to cuInit: INTERNAL: CUDA error: Failed call to cuInit: UNKNOWN ERROR (303)\n"
     ]
    }
   ],
   "source": [
    "# REFERENCE: The block of code below has been generated by ChatGPT\n",
    "# it has been refactored a little and commented.\n",
    "# -- BEGIN AI GENERATED CODE -- #\n",
    "enable_unsafe_deserialization()\n",
    "model = tf.keras.models.load_model(\n",
    "    \"xyz_model.keras\",\n",
    "    custom_objects={\n",
    "        'GCNNLayer': GCNNLayer,\n",
    "        'masked_avg_pooling': masked_avg_pooling\n",
    "    }\n",
    ")\n",
    "# Replace the masked_avg_pooling Lambda with a layer\n",
    "for layer in model.layers:\n",
    "    if isinstance(layer, Lambda):\n",
    "        layer.function = lambda args, fn=masked_avg_pooling: fn(args[0], args[1])\n",
    "# -- END AI GENERATED CODE -- #"
   ]
  },
  {
   "cell_type": "markdown",
   "id": "2edadc90-1f85-45fc-8d98-41e391b5aa37",
   "metadata": {},
   "source": [
    "### Prepare test datasets"
   ]
  },
  {
   "cell_type": "code",
   "execution_count": 12,
   "id": "332c1440-70e1-40f6-89f3-20a94723f8c9",
   "metadata": {},
   "outputs": [],
   "source": [
    "# Prepare test sets\n",
    "batch_size = 32\n",
    "\n",
    "test_ds = tf.data.Dataset.load(qm9_03_test)\n",
    "test_ds_05 = tf.data.Dataset.load(qm9_05_test)\n",
    "\n",
    "test_ds = test_ds.batch(batch_size, drop_remainder=True)\n",
    "test_ds_05 = test_ds_05.batch(batch_size, drop_remainder=True)"
   ]
  },
  {
   "cell_type": "markdown",
   "id": "a7dfef95-63c5-4b2b-b487-75f70618e6c5",
   "metadata": {},
   "source": [
    "### Performance Evaluation (0.3 Angstroms Displacement)\n",
    "\n",
    "For each dataset we first have to use the model to make predictions on the set. Then we can compare those predictions to the real class for each molecule and generate performance statistics.\n",
    "\n",
    "This first block just makes the predictions and prepares the output data for comparison. The 'n_samples' variable on the first line will determine the number of samples used across subsequent predictions and evaluations as well so that they can be compared. A value greater than the number of samples in the other test won't produce an error, but it will mean the statistics for each will be based on different numbers of samples and thus may not allow a meaningful comparison.\n",
    "\n",
    "When adjusting 'n_samples', remember that the test sets are stored as batches, with each batch containing 'batch_size' samples."
   ]
  },
  {
   "cell_type": "code",
   "execution_count": 14,
   "id": "c7eab346-b442-46a3-b635-bea41f4b36d8",
   "metadata": {},
   "outputs": [
    {
     "name": "stdout",
     "output_type": "stream",
     "text": [
      "\u001b[1m125/125\u001b[0m \u001b[32m━━━━━━━━━━━━━━━━━━━━\u001b[0m\u001b[37m\u001b[0m \u001b[1m0s\u001b[0m 814us/step\n"
     ]
    },
    {
     "name": "stderr",
     "output_type": "stream",
     "text": [
      "2025-05-22 13:41:33.328751: I tensorflow/core/framework/local_rendezvous.cc:407] Local rendezvous is aborting with status: OUT_OF_RANGE: End of sequence\n"
     ]
    }
   ],
   "source": [
    "# Evaluate the model using the test data (0.3 angstroms displacement)\n",
    "n_samples = len(test_ds) * batch_size\n",
    "\n",
    "# Run predictions on our test dataset\n",
    "preds = model.predict(test_ds).flatten()\n",
    "\n",
    "# This is for storing our labels\n",
    "true = []\n",
    "rounded = []\n",
    "\n",
    "# Extract and store each label\n",
    "for _, y in test_ds.as_numpy_iterator():\n",
    "    true.extend(y)\n",
    "true = np.array(true).flatten()\n",
    "\n",
    "# Iterate through the predictions, round the probability for a label\n",
    "for i in range(n_samples):\n",
    "    rounded.append(int(np.round(preds[i])))"
   ]
  },
  {
   "cell_type": "markdown",
   "id": "5e6ef990-cfe1-4bb4-889f-d15dd6a31340",
   "metadata": {},
   "source": [
    "A confusion matrix is a good way of visualising a model's performance on a test set in terms of false positives (top right), true positives (bottom right), false negatives (bottom left) and true negatives (top left). The scikit-learn implementation used here also allows us to easily extract these numbers in the next step."
   ]
  },
  {
   "cell_type": "code",
   "execution_count": 16,
   "id": "106b8e2e-f81e-487c-9902-09f5dd188cba",
   "metadata": {},
   "outputs": [
    {
     "data": {
      "image/png": "[encoded data removed]",
      "text/plain": [
       "<Figure size 640x480 with 2 Axes>"
      ]
     },
     "metadata": {},
     "output_type": "display_data"
    }
   ],
   "source": [
    "confusion_matrix = metrics.confusion_matrix(true[0:n_samples], rounded)\n",
    "cm_display = metrics.ConfusionMatrixDisplay(confusion_matrix = confusion_matrix, display_labels = [0, 1])\n",
    "cm_display.plot()\n",
    "plt.suptitle(\"Confusion Matrix (0.3 angstroms)\")\n",
    "plt.show()"
   ]
  },
  {
   "cell_type": "markdown",
   "id": "9bb09ca1-30c0-476e-9a9b-45ab51543042",
   "metadata": {},
   "source": [
    "Here we extract the aforementioned statistics from the confusion matrix and use those to calculate other useful statistics. These include:\n",
    "\n",
    "- Accuracy: A straightforward measure of model performance, simply calculated by dividing the number of correct predictions by the total number of predictions.\n",
    "  \n",
    "- Precision: While accuracy gives a sense of overall performance across both classes (in this case in equilibrium and out-of-equilibrium), precision tells you how well the model does when it comes the positive class (in equilibrium) specifically. It tells you what portion of the samples classified as positive are actually positive.\n",
    "\n",
    "\n",
    "- Negative Predicted Value (NPV): The opposite of precision, this is what portion of the negative classifications are actually negative.\n",
    "\n",
    "  \n",
    "- Recall/Sensitivity: Similar to precision in the sense it gives a more specific insight than the overall accuracy, recall tells you what portion of the truly positive samples are identified as such. In a binary case like this it is the same thing as 'sensitivity'.\n",
    "\n",
    "- Specificity: The opposite of sensitivity, it is the portion of truly negative samples that are predicted to be negative.\n",
    "\n",
    "- F1-Score: A way of summarising precision and recall. There is typically a tradeoff between these two statistics, and the F1-score is generally better when both can achieve a relatively high value regardless. Unlike the other statistics, this requires something to be compared to, which we will get to later."
   ]
  },
  {
   "cell_type": "code",
   "execution_count": 18,
   "id": "b93c82ba-fe83-4a24-92e7-973066879c31",
   "metadata": {},
   "outputs": [
    {
     "name": "stdout",
     "output_type": "stream",
     "text": [
      "\n",
      "(positive class = in-equilibrium)\n",
      "\n",
      "\n",
      "Correctly classified: 3283/4000\n",
      "\n",
      "Accuracy: 0.82075\n",
      "\n",
      "Precision: 0.73537\n",
      "\n",
      "Negative Predicted Value: 0.99468\n",
      "\n",
      "Recall/Sensitivity: 0.99646\n",
      "\n",
      "Specificity: 0.64851\n",
      "\n",
      "F1-score: 0.84624\n",
      "\n",
      "\n",
      " -- All statistics rounded to 5 decimal places --\n"
     ]
    }
   ],
   "source": [
    "# Extract true positive, false positive, false negative and true positive count\n",
    "tn, fp, fn, tp = confusion_matrix.ravel()\n",
    "\n",
    "# Calculate total correct, incorrect and accuracy\n",
    "correct = tp + tn\n",
    "incorrect = fp + fn\n",
    "total = correct + incorrect\n",
    "accuracy = correct/total\n",
    "\n",
    "# Calculate precision, recall and F1-score\n",
    "precision = tp / (tp + fp)\n",
    "npv = tn / (tn + fn)\n",
    "sensitivity = tp / (tp + fn)\n",
    "specificity = tn / (tn + fp)\n",
    "f1 = 2 * (precision * sensitivity) / (precision + sensitivity)\n",
    "\n",
    "# Display statistics\n",
    "print(f\"\\n(positive class = in-equilibrium)\\n\")\n",
    "print(f\"\\nCorrectly classified: {correct}/{total}\")\n",
    "print(f\"\\nAccuracy: {accuracy:.5f}\")\n",
    "print(f\"\\nPrecision: {precision:.5f}\")\n",
    "print(f\"\\nNegative Predicted Value: {npv:.5f}\")\n",
    "print(f\"\\nRecall/Sensitivity: {sensitivity:.5f}\")\n",
    "print(f\"\\nSpecificity: {specificity:.5f}\")\n",
    "print(f\"\\nF1-score: {f1:.5f}\")\n",
    "print(f\"\\n\\n -- All statistics rounded to 5 decimal places --\")"
   ]
  },
  {
   "cell_type": "markdown",
   "id": "ba448938-8b96-4de4-b2a6-c40dbddc50c8",
   "metadata": {},
   "source": [
    "#### [Original Model/Data Only] \n",
    "\n",
    "Some interpretations from this performance include:\n",
    "\n",
    "- About 82% of samples are correctly classified by the model.\n",
    "\n",
    "- About 74% of samples classified as positive are actually positive. The other quarter or so of them are false positives. About 35% (1 - specificity) of truly negative samples (just under 99.5%) are misclassified as positive.\n",
    "\n",
    "- Almost all samples (just under 99.5%) classified as negative are actually negative. This corresponds with the fact that almost all truly positive samples are correctly classified (over 99.6%).\n",
    "\n",
    "Overall, the model is very reliable in terms of making sure positive samples aren't misclassified as negative ones, but in order to achieve this it has to be lenient about what gets treated as a positive sample, to the point where a number of negative samples are misclassified as such."
   ]
  },
  {
   "cell_type": "markdown",
   "id": "84af666f-a942-4ac7-8344-74823e272a18",
   "metadata": {},
   "source": [
    "### Performance Evaluation (0.5 Angstroms  Displacement)"
   ]
  },
  {
   "cell_type": "code",
   "execution_count": 21,
   "id": "c94909de-d47f-41ed-9448-0de3c987d81f",
   "metadata": {},
   "outputs": [
    {
     "name": "stdout",
     "output_type": "stream",
     "text": [
      "\u001b[1m124/124\u001b[0m \u001b[32m━━━━━━━━━━━━━━━━━━━━\u001b[0m\u001b[37m\u001b[0m \u001b[1m0s\u001b[0m 798us/step\n"
     ]
    },
    {
     "name": "stderr",
     "output_type": "stream",
     "text": [
      "2025-05-22 13:41:33.659618: I tensorflow/core/framework/local_rendezvous.cc:407] Local rendezvous is aborting with status: OUT_OF_RANGE: End of sequence\n"
     ]
    }
   ],
   "source": [
    "# If using the full 0.3 set, use the full 0.5 as well, even if different lengths\n",
    "n_samples_05 = 0\n",
    "if (n_samples == len(test_ds) * batch_size):\n",
    "    n_samples_05 = len(test_ds_05) * batch_size\n",
    "# If we're using some custom amount, should be the same amount from both sets\n",
    "else:\n",
    "    n_samples_05 = n_samples\n",
    "\n",
    "# Run predictions on our test dataset\n",
    "preds_05 = model.predict(test_ds_05).flatten()\n",
    "\n",
    "# This is for storing our labels\n",
    "true_05 = []\n",
    "rounded_05 = []\n",
    "\n",
    "# Extract and store each label\n",
    "for _, y in test_ds_05.as_numpy_iterator():\n",
    "    true_05.extend(y)\n",
    "true_05 = np.array(true_05).flatten()\n",
    "\n",
    "# Iterate through the predictions, round the probability for a label\n",
    "for i in range(n_samples_05):\n",
    "    rounded_05.append(int(np.round(preds_05[i])))"
   ]
  },
  {
   "cell_type": "code",
   "execution_count": 22,
   "id": "0a3832f5-7be3-47c3-87eb-89c4b623390a",
   "metadata": {},
   "outputs": [
    {
     "data": {
      "image/png": "[encoded data removed]",
      "text/plain": [
       "<Figure size 640x480 with 2 Axes>"
      ]
     },
     "metadata": {},
     "output_type": "display_data"
    }
   ],
   "source": [
    "confusion_matrix_05 = metrics.confusion_matrix(true_05[0:n_samples_05], rounded_05)\n",
    "cm_display = metrics.ConfusionMatrixDisplay(confusion_matrix = confusion_matrix_05, display_labels = [0, 1])\n",
    "cm_display.plot()\n",
    "plt.suptitle(\"Confusion Matrix (0.5 angstroms)\")\n",
    "plt.show()"
   ]
  },
  {
   "cell_type": "code",
   "execution_count": 23,
   "id": "04b72e94-1096-408f-8e4b-406aa1653e3c",
   "metadata": {},
   "outputs": [
    {
     "name": "stdout",
     "output_type": "stream",
     "text": [
      "\n",
      "(positive class = in-equilibrium)\n",
      "\n",
      "\n",
      "Correctly classified: 3260/3968\n",
      "\n",
      "Accuracy: 0.82157\n",
      "\n",
      "Precision: 0.73810\n",
      "\n",
      "Negative Predicted Value: 0.99687\n",
      "\n",
      "Recall/Sensitivity: 0.99799\n",
      "\n",
      "Specificity: 0.64444\n",
      "\n",
      "F1-score: 0.84859\n",
      "\n",
      "\n",
      " -- All statistics rounded to 5 decimal places --\n"
     ]
    }
   ],
   "source": [
    "# Extract true positive, false positive, false negative and true positive count\n",
    "tn_05, fp_05, fn_05, tp_05 = confusion_matrix_05.ravel()\n",
    "\n",
    "# Calculate total correct, incorrect and accuracy\n",
    "correct_05 = tp_05 + tn_05\n",
    "incorrect_05 = fp_05 + fn_05\n",
    "total_05 = correct_05 + incorrect_05\n",
    "accuracy_05 = correct_05/total_05\n",
    "\n",
    "# Calculate precision, recall and F1-score\n",
    "precision_05 = tp_05 / (tp_05 + fp_05)\n",
    "npv_05 = tn_05 / (tn_05 + fn_05)\n",
    "sensitivity_05 = tp_05 / (tp_05 + fn_05)\n",
    "specificity_05 = tn_05 / (tn_05 + fp_05)\n",
    "f1_05 = 2 * (precision_05 * sensitivity_05) / (precision_05 + sensitivity_05)\n",
    "\n",
    "# Display statistics\n",
    "print(f\"\\n(positive class = in-equilibrium)\\n\")\n",
    "print(f\"\\nCorrectly classified: {correct_05}/{total_05}\")\n",
    "print(f\"\\nAccuracy: {accuracy_05:.5f}\")\n",
    "print(f\"\\nPrecision: {precision_05:.5f}\")\n",
    "print(f\"\\nNegative Predicted Value: {npv_05:.5f}\")\n",
    "print(f\"\\nRecall/Sensitivity: {sensitivity_05:.5f}\")\n",
    "print(f\"\\nSpecificity: {specificity_05:.5f}\")\n",
    "print(f\"\\nF1-score: {f1_05:.5f}\")\n",
    "print(f\"\\n\\n -- All statistics rounded to 5 decimal places --\")"
   ]
  },
  {
   "cell_type": "markdown",
   "id": "f30097d3-c02f-4da7-b5c8-1b7ee60dfbd9",
   "metadata": {},
   "source": [
    "#### [Original Model/Data Only] \n",
    "\n",
    "Some interpretations from this performance include:\n",
    "\n",
    "- Again, about 82% (actually slightly higher than last time) of samples are correctly classified by the model.\n",
    "\n",
    "- Again, about 74% (also slightly higher then with the 0.3 set before rounding) of samples classified as positive are actually positive. The rest are false positives. About 36% (1 - specificity) of truly negative samples are misclassified as positive.\n",
    "\n",
    "- Almost all samples classified as negative are actually negative (almost 99.7%). This corresponds with the fact that almost all (about 99.8%) truly positive samples are correctly classified.\n",
    "\n",
    "Again, the model is very reliable in terms of making sure positive samples aren't misclassified as negative ones at the cost of having loose standards for positive classification. The tradeoff is slightly less pronounced in this case, however, as evidenced by the improved F1-score. The overall performance is slightly better as well, which isn't surprising as this dataset uses more heavily displaced and thus more obvious out-of-equilibrium molecules, though the fact the difference isn't more dramatic is somewhat surprising."
   ]
  },
  {
   "cell_type": "markdown",
   "id": "4977fb90-b1e7-4f22-9549-b1882a5fd6f0",
   "metadata": {},
   "source": [
    "### Performance Evaluation (Baseline)\n",
    "\n",
    "In order to contextualise our F1-scores we need a baseline score. Here we generate such a score by calculating the same statistics from predictions made on the 0.3 angstrom displacement test set using a model which always classifies molecules as in equilibrium. This \"model\" isn't a real model, we just generate a set of \"predictions\" that are all positive as if they had been produced by such a model. We treat it as if the input to this model was the 0.3 displacement set so we know what to compare it to for the \"true\" classes (the test set in question).\n",
    "\n",
    "Statistics based on a rudimentary classifier like this are a useful comparison for things other than the F1-score, so we compute all of the same statistics and display the confusion matrix just as before."
   ]
  },
  {
   "cell_type": "code",
   "execution_count": 26,
   "id": "38bc4e57-3a45-4316-bd2f-197e31c74675",
   "metadata": {},
   "outputs": [
    {
     "data": {
      "image/png": "[encoded data removed]",
      "text/plain": [
       "<Figure size 640x480 with 2 Axes>"
      ]
     },
     "metadata": {},
     "output_type": "display_data"
    },
    {
     "name": "stdout",
     "output_type": "stream",
     "text": [
      "\n",
      "(positive class = in-equilibrium)\n",
      "\n",
      "\n",
      "Correctly classified: 1980/4000\n",
      "\n",
      "Accuracy: 0.49500\n",
      "\n",
      "Precision: 0.49500\n",
      "\n",
      "Negative Predicted Value: NaN (would be dividing zero by zero)\n",
      "\n",
      "Recall/Sensitivity: 1.00000\n",
      "\n",
      "Specificity: 0.00000\n",
      "\n",
      "F1-score: 0.66221\n",
      "\n",
      "\n",
      " -- All statistics rounded to 5 decimal places --\n"
     ]
    }
   ],
   "source": [
    "# Create baseline \"predictions\"\n",
    "baseline = [1] * n_samples\n",
    "\n",
    "# Create a confusion matrix for the predictions\n",
    "base_conf_matrix = metrics.confusion_matrix(true[0:n_samples], baseline)\n",
    "cm_display = metrics.ConfusionMatrixDisplay(confusion_matrix = base_conf_matrix, display_labels = [0, 1])\n",
    "cm_display.plot()\n",
    "plt.suptitle(\"Confusion Matrix (baseline)\")\n",
    "plt.show()\n",
    "\n",
    "# Extract true positive, false positive, false negative and true positive count\n",
    "base_tn, base_fp, base_fn, base_tp = base_conf_matrix.ravel()\n",
    "\n",
    "# Calculate total correct, incorrect and accuracy\n",
    "base_correct = base_tp + base_tn\n",
    "base_incorrect = base_fp + base_fn\n",
    "base_total = base_correct + base_incorrect\n",
    "base_accuracy = base_correct/base_total\n",
    "\n",
    "# Calculate precision, recall and F1-score\n",
    "base_precision = base_tp / (base_tp + base_fp)\n",
    "# We don't calculate NPV because there are no true or false negatives in the baseline predictions (0/0+0)\n",
    "base_sensitivity = base_tp / (base_tp + base_fn)\n",
    "base_specificity = base_tn / (base_tn + base_fp)\n",
    "base_f1 = 2 * (base_precision * base_sensitivity) / (base_precision + base_sensitivity)\n",
    "\n",
    "# Display statistics\n",
    "print(f\"\\n(positive class = in-equilibrium)\\n\")\n",
    "print(f\"\\nCorrectly classified: {base_correct}/{base_total}\")\n",
    "print(f\"\\nAccuracy: {base_accuracy:.5f}\")\n",
    "print(f\"\\nPrecision: {base_precision:.5f}\")\n",
    "print(f\"\\nNegative Predicted Value: NaN (would be dividing zero by zero)\")\n",
    "print(f\"\\nRecall/Sensitivity: {base_sensitivity:.5f}\")\n",
    "print(f\"\\nSpecificity: {base_specificity:.5f}\")\n",
    "print(f\"\\nF1-score: {base_f1:.5f}\")\n",
    "print(f\"\\n\\n -- All statistics rounded to 5 decimal places --\")"
   ]
  },
  {
   "cell_type": "markdown",
   "id": "4614da1e-b622-4624-8dae-5580369bbfbf",
   "metadata": {},
   "source": [
    "##### [Original Model/Data Only] \n",
    "\n",
    "Some interpretations from this baseline performance include:\n",
    "\n",
    "- Only about 50% of samples are correctly classified by the model.\n",
    "\n",
    "- Because all samples are classified as positive, this also means roughly 50% of samples classified as positive are actually positive. The rest are false positives. Unsurprisingly, all truly negative samples are misclassified as positive.\n",
    "\n",
    "- We can't compute the NPV because that would involve dividing by zero. There are no false negatives, but that's because there are no negative classifications at all.\n",
    "\n",
    "This always positive classifier performs roughly equal to chance, which makes sense as there are close to an equal number of samples belongong to each class in the test set. It does manage to achieve a sensitivity of 1, meaning no positive samples are misclassified, but we can achieve something very close to this with our actual model while maintaining significantly better performance in other areas.\n",
    "\n",
    "Of course, the main use for the baseline is as a point of comparison for the previous F1-scores. Both the 0.3 and 0.5 displacement test sets achieved a score of just under 0.85, compared to around 0.66 in this case. That means our model significantly improves over this basic strategy in terms of precision and recall, so we can consider the scores for the two tests sets to be good."
   ]
  },
  {
   "cell_type": "markdown",
   "id": "e94f2803-62e8-4e53-b564-a2274b78c114",
   "metadata": {},
   "source": [
    "### Performance Summaries\n",
    "\n",
    "These last few blocks give an additional statistic, the model's loss (always based on the full test set), and summarise/compare model performance across the two test sets (and in some cases the baseline) for ease of interpretability."
   ]
  },
  {
   "cell_type": "code",
   "execution_count": 29,
   "id": "3e7fa732-e737-4b5c-8243-40ac8bd75263",
   "metadata": {},
   "outputs": [
    {
     "name": "stdout",
     "output_type": "stream",
     "text": [
      "\u001b[1m125/125\u001b[0m \u001b[32m━━━━━━━━━━━━━━━━━━━━\u001b[0m\u001b[37m\u001b[0m \u001b[1m0s\u001b[0m 887us/step - accuracy: 0.8134 - loss: 0.1082\n",
      "\u001b[1m124/124\u001b[0m \u001b[32m━━━━━━━━━━━━━━━━━━━━\u001b[0m\u001b[37m\u001b[0m \u001b[1m0s\u001b[0m 855us/step - accuracy: 0.8218 - loss: 0.1061\n"
     ]
    }
   ],
   "source": [
    "loss, _ = model.evaluate(test_ds)\n",
    "loss_05, _ = model.evaluate(test_ds_05)"
   ]
  },
  {
   "cell_type": "code",
   "execution_count": 30,
   "id": "bb201150-57ad-4e36-8739-d4dc5f7b504f",
   "metadata": {},
   "outputs": [
    {
     "name": "stdout",
     "output_type": "stream",
     "text": [
      "\n",
      " __ Loss Summary __\n",
      "\n",
      "Loss with 0.3 angstroms: 0.10782\n",
      "\n",
      "Loss with 0.5 angstroms: 0.10710\n",
      "\n",
      "\n",
      " -- All statistics rounded to 5 decimal places --\n"
     ]
    }
   ],
   "source": [
    "print(f\"\\n __ Loss Summary __\")\n",
    "print(f\"\\nLoss with 0.3 angstroms: {loss:.5f}\")\n",
    "print(f\"\\nLoss with 0.5 angstroms: {loss_05:.5f}\")\n",
    "print(f\"\\n\\n -- All statistics rounded to 5 decimal places --\")"
   ]
  },
  {
   "cell_type": "code",
   "execution_count": 31,
   "id": "7d7effc0-cd92-444f-b9eb-86ad78098560",
   "metadata": {},
   "outputs": [
    {
     "name": "stdout",
     "output_type": "stream",
     "text": [
      "\n",
      " __ Accuracy Summary __\n",
      "\n",
      "Baseline classification: 1980/4000\n",
      "\n",
      "Classification with 0.3 angstroms: 3283/4000\n",
      "\n",
      "Classification with 0.5 angstroms: 3260/3968\n"
     ]
    }
   ],
   "source": [
    "print(f\"\\n __ Accuracy Summary __\")\n",
    "print(f\"\\nBaseline classification: {base_correct}/{base_total}\")\n",
    "print(f\"\\nClassification with 0.3 angstroms: {correct}/{total}\")\n",
    "print(f\"\\nClassification with 0.5 angstroms: {correct_05}/{total_05}\")"
   ]
  },
  {
   "cell_type": "code",
   "execution_count": 32,
   "id": "fcd233e7-8c82-498a-9a67-37d1e6ea08aa",
   "metadata": {},
   "outputs": [
    {
     "name": "stdout",
     "output_type": "stream",
     "text": [
      "\n",
      " __ F1-Score Summary __\n",
      "\n",
      "Baseline F1-score: 0.66221\n",
      "\n",
      "F1-score with 0.3 angstroms: 0.84624\n",
      "\n",
      "F1-score with 0.5 angstroms: 0.84859\n",
      "\n",
      "\n",
      " -- All statistics rounded to 5 decimal places --\n"
     ]
    }
   ],
   "source": [
    "print(f\"\\n __ F1-Score Summary __\")\n",
    "print(f\"\\nBaseline F1-score: {base_f1:.5f}\")\n",
    "print(f\"\\nF1-score with 0.3 angstroms: {f1:.5f}\")\n",
    "print(f\"\\nF1-score with 0.5 angstroms: {f1_05:.5f}\")\n",
    "print(f\"\\n\\n -- All statistics rounded to 5 decimal places --\")"
   ]
  }
 ],
 "metadata": {
  "kernelspec": {
   "display_name": "Python [conda env:base] *",
   "language": "python",
   "name": "conda-base-py"
  },
  "language_info": {
   "codemirror_mode": {
    "name": "ipython",
    "version": 3
   },
   "file_extension": ".py",
   "mimetype": "text/x-python",
   "name": "python",
   "nbconvert_exporter": "python",
   "pygments_lexer": "ipython3",
   "version": "3.12.2"
  }
 },
 "nbformat": 4,
 "nbformat_minor": 5
}
